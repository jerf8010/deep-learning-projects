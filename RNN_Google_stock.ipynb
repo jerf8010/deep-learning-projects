{
  "nbformat": 4,
  "nbformat_minor": 0,
  "metadata": {
    "colab": {
      "name": "RNN-Google stock.ipynb",
      "provenance": [],
      "collapsed_sections": []
    },
    "kernelspec": {
      "name": "python3",
      "display_name": "Python 3"
    },
    "language_info": {
      "name": "python"
    }
  },
  "cells": [
    {
      "cell_type": "markdown",
      "source": [
        "# Recurrent Neural Networks\n",
        "\n"
      ],
      "metadata": {
        "id": "skGeNoC8id5S"
      }
    },
    {
      "cell_type": "markdown",
      "source": [
        "### Preprocesado de datos"
      ],
      "metadata": {
        "id": "qSIFoSv5jFsF"
      }
    },
    {
      "cell_type": "code",
      "execution_count": 1,
      "metadata": {
        "id": "Yab74IZ7hBL9"
      },
      "outputs": [],
      "source": [
        "# Importacion de las librerias\n",
        "import numpy as np\n",
        "import pandas as pd\n",
        "import matplotlib.pyplot as plt"
      ]
    },
    {
      "cell_type": "code",
      "source": [
        "# Importar datos de entrenamiento\n",
        "dataset_train = pd.read_csv(\"https://raw.githubusercontent.com/joanby/deeplearning-az/master/datasets/Part%203%20-%20Recurrent%20Neural%20Networks%20(RNN)/Google_Stock_Price_Train.csv\")\n",
        "dataset_train.head(3)"
      ],
      "metadata": {
        "colab": {
          "base_uri": "https://localhost:8080/",
          "height": 143
        },
        "id": "Ab5WESJljDpB",
        "outputId": "655a5e03-620e-41cf-961d-93d02cb9db26"
      },
      "execution_count": 2,
      "outputs": [
        {
          "output_type": "execute_result",
          "data": {
            "text/html": [
              "<div>\n",
              "<style scoped>\n",
              "    .dataframe tbody tr th:only-of-type {\n",
              "        vertical-align: middle;\n",
              "    }\n",
              "\n",
              "    .dataframe tbody tr th {\n",
              "        vertical-align: top;\n",
              "    }\n",
              "\n",
              "    .dataframe thead th {\n",
              "        text-align: right;\n",
              "    }\n",
              "</style>\n",
              "<table border=\"1\" class=\"dataframe\">\n",
              "  <thead>\n",
              "    <tr style=\"text-align: right;\">\n",
              "      <th></th>\n",
              "      <th>Date</th>\n",
              "      <th>Open</th>\n",
              "      <th>High</th>\n",
              "      <th>Low</th>\n",
              "      <th>Close</th>\n",
              "      <th>Volume</th>\n",
              "    </tr>\n",
              "  </thead>\n",
              "  <tbody>\n",
              "    <tr>\n",
              "      <th>0</th>\n",
              "      <td>1/3/2012</td>\n",
              "      <td>325.25</td>\n",
              "      <td>332.83</td>\n",
              "      <td>324.97</td>\n",
              "      <td>663.59</td>\n",
              "      <td>7,380,500</td>\n",
              "    </tr>\n",
              "    <tr>\n",
              "      <th>1</th>\n",
              "      <td>1/4/2012</td>\n",
              "      <td>331.27</td>\n",
              "      <td>333.87</td>\n",
              "      <td>329.08</td>\n",
              "      <td>666.45</td>\n",
              "      <td>5,749,400</td>\n",
              "    </tr>\n",
              "    <tr>\n",
              "      <th>2</th>\n",
              "      <td>1/5/2012</td>\n",
              "      <td>329.83</td>\n",
              "      <td>330.75</td>\n",
              "      <td>326.89</td>\n",
              "      <td>657.21</td>\n",
              "      <td>6,590,300</td>\n",
              "    </tr>\n",
              "  </tbody>\n",
              "</table>\n",
              "</div>"
            ],
            "text/plain": [
              "       Date    Open    High     Low   Close     Volume\n",
              "0  1/3/2012  325.25  332.83  324.97  663.59  7,380,500\n",
              "1  1/4/2012  331.27  333.87  329.08  666.45  5,749,400\n",
              "2  1/5/2012  329.83  330.75  326.89  657.21  6,590,300"
            ]
          },
          "metadata": {},
          "execution_count": 2
        }
      ]
    },
    {
      "cell_type": "code",
      "source": [
        "# Feature selection\n",
        "training_set = dataset_train.iloc[ : , 1:2].values\n",
        "training_set"
      ],
      "metadata": {
        "colab": {
          "base_uri": "https://localhost:8080/"
        },
        "id": "cY6TGV_9j3We",
        "outputId": "db72a997-753a-4f98-b162-2f277b988e8e"
      },
      "execution_count": 3,
      "outputs": [
        {
          "output_type": "execute_result",
          "data": {
            "text/plain": [
              "array([[325.25],\n",
              "       [331.27],\n",
              "       [329.83],\n",
              "       ...,\n",
              "       [793.7 ],\n",
              "       [783.33],\n",
              "       [782.75]])"
            ]
          },
          "metadata": {},
          "execution_count": 3
        }
      ]
    },
    {
      "cell_type": "code",
      "source": [
        "# Data scaling\n",
        "from sklearn.preprocessing import MinMaxScaler\n",
        "scaler = MinMaxScaler( feature_range = (0,1))\n",
        "training_set_scaled =  scaler.fit_transform( training_set )\n",
        "training_set_scaled"
      ],
      "metadata": {
        "colab": {
          "base_uri": "https://localhost:8080/"
        },
        "id": "IvRycndMk5w_",
        "outputId": "4d44b7a4-90a7-4887-a0c4-0b6d6fd526ca"
      },
      "execution_count": 4,
      "outputs": [
        {
          "output_type": "execute_result",
          "data": {
            "text/plain": [
              "array([[0.08581368],\n",
              "       [0.09701243],\n",
              "       [0.09433366],\n",
              "       ...,\n",
              "       [0.95725128],\n",
              "       [0.93796041],\n",
              "       [0.93688146]])"
            ]
          },
          "metadata": {},
          "execution_count": 4
        }
      ]
    },
    {
      "cell_type": "markdown",
      "source": [
        "### Crear una estructura de datos con 60 timesteps y 1 salida"
      ],
      "metadata": {
        "id": "4PUVAPfqlxVW"
      }
    },
    {
      "cell_type": "code",
      "source": [
        "X_train = []\n",
        "y_train = []\n",
        "\n",
        "for i in range(60, 1258):\n",
        "  X_train.append(training_set_scaled[i - 60: i, 0])\n",
        "  y_train.append(training_set_scaled[i, 0])\n",
        "\n",
        "X_train, y_train = np.array(X_train), np.array(y_train)"
      ],
      "metadata": {
        "id": "8Aiqk3G0lt8T"
      },
      "execution_count": 5,
      "outputs": []
    },
    {
      "cell_type": "code",
      "source": [
        "X_train"
      ],
      "metadata": {
        "colab": {
          "base_uri": "https://localhost:8080/"
        },
        "id": "CE-y6GXiotzF",
        "outputId": "65568b49-29e8-40b6-a4d5-da00b11ca4a6"
      },
      "execution_count": 6,
      "outputs": [
        {
          "output_type": "execute_result",
          "data": {
            "text/plain": [
              "array([[0.08581368, 0.09701243, 0.09433366, ..., 0.07846566, 0.08034452,\n",
              "        0.08497656],\n",
              "       [0.09701243, 0.09433366, 0.09156187, ..., 0.08034452, 0.08497656,\n",
              "        0.08627874],\n",
              "       [0.09433366, 0.09156187, 0.07984225, ..., 0.08497656, 0.08627874,\n",
              "        0.08471612],\n",
              "       ...,\n",
              "       [0.92106928, 0.92438053, 0.93048218, ..., 0.95475854, 0.95204256,\n",
              "        0.95163331],\n",
              "       [0.92438053, 0.93048218, 0.9299055 , ..., 0.95204256, 0.95163331,\n",
              "        0.95725128],\n",
              "       [0.93048218, 0.9299055 , 0.93113327, ..., 0.95163331, 0.95725128,\n",
              "        0.93796041]])"
            ]
          },
          "metadata": {},
          "execution_count": 6
        }
      ]
    },
    {
      "cell_type": "code",
      "source": [
        "# Redimensión de los datos\n",
        "\n",
        "X_train = np.reshape(X_train, (X_train.shape[0], X_train.shape[1], 1) )\n",
        "X_train"
      ],
      "metadata": {
        "colab": {
          "base_uri": "https://localhost:8080/"
        },
        "id": "xzSuqIF6pLhC",
        "outputId": "55632f25-f625-46fb-a292-99a8c40c2334"
      },
      "execution_count": 7,
      "outputs": [
        {
          "output_type": "execute_result",
          "data": {
            "text/plain": [
              "array([[[0.08581368],\n",
              "        [0.09701243],\n",
              "        [0.09433366],\n",
              "        ...,\n",
              "        [0.07846566],\n",
              "        [0.08034452],\n",
              "        [0.08497656]],\n",
              "\n",
              "       [[0.09701243],\n",
              "        [0.09433366],\n",
              "        [0.09156187],\n",
              "        ...,\n",
              "        [0.08034452],\n",
              "        [0.08497656],\n",
              "        [0.08627874]],\n",
              "\n",
              "       [[0.09433366],\n",
              "        [0.09156187],\n",
              "        [0.07984225],\n",
              "        ...,\n",
              "        [0.08497656],\n",
              "        [0.08627874],\n",
              "        [0.08471612]],\n",
              "\n",
              "       ...,\n",
              "\n",
              "       [[0.92106928],\n",
              "        [0.92438053],\n",
              "        [0.93048218],\n",
              "        ...,\n",
              "        [0.95475854],\n",
              "        [0.95204256],\n",
              "        [0.95163331]],\n",
              "\n",
              "       [[0.92438053],\n",
              "        [0.93048218],\n",
              "        [0.9299055 ],\n",
              "        ...,\n",
              "        [0.95204256],\n",
              "        [0.95163331],\n",
              "        [0.95725128]],\n",
              "\n",
              "       [[0.93048218],\n",
              "        [0.9299055 ],\n",
              "        [0.93113327],\n",
              "        ...,\n",
              "        [0.95163331],\n",
              "        [0.95725128],\n",
              "        [0.93796041]]])"
            ]
          },
          "metadata": {},
          "execution_count": 7
        }
      ]
    },
    {
      "cell_type": "markdown",
      "source": [
        "### Construccion de la RNN\n"
      ],
      "metadata": {
        "id": "m10nYMULsB5u"
      }
    },
    {
      "cell_type": "code",
      "source": [
        "from keras.models import Sequential\n",
        "from keras.layers import Dense, LSTM, Dropout"
      ],
      "metadata": {
        "id": "jNJWynEpsL7N"
      },
      "execution_count": 8,
      "outputs": []
    },
    {
      "cell_type": "code",
      "source": [
        "# Inicializacion del modelo\n",
        "regressor = Sequential()\n",
        "# Añadir la primera capade LSTM\n",
        "regressor.add(LSTM(units = 50, return_sequences = True, input_shape = (X_train.shape[1], 1) ) )\n",
        "# Reguslarizacion por Dropout\n",
        "regressor.add(Dropout(0.2))\n",
        "\n",
        "# Añadir capa de LSTM con regularizacion\n",
        "regressor.add(LSTM(units = 50, return_sequences = True ) )\n",
        "regressor.add(Dropout(0.2))\n",
        "\n",
        "# Añadir capa de LSTM con regularizacion\n",
        "regressor.add(LSTM(units = 50, return_sequences = True ) )\n",
        "regressor.add(Dropout(0.2))\n",
        "\n",
        "# Añadir capa de LSTM con regularizacion\n",
        "regressor.add(LSTM(units = 50 ) )\n",
        "regressor.add(Dropout(0.2))"
      ],
      "metadata": {
        "id": "sSNpBnEesXT-"
      },
      "execution_count": 9,
      "outputs": []
    },
    {
      "cell_type": "code",
      "source": [
        "# Añadir la capa de salida\n",
        "regressor.add( Dense(units = 1) )"
      ],
      "metadata": {
        "id": "_ga2m9NJxV6_"
      },
      "execution_count": 10,
      "outputs": []
    },
    {
      "cell_type": "code",
      "source": [
        "# Compilar la RNN\n",
        "regressor.compile(optimizer = 'adam', loss = 'mean_squared_error')"
      ],
      "metadata": {
        "id": "uaSzaHiZxycX"
      },
      "execution_count": 11,
      "outputs": []
    },
    {
      "cell_type": "code",
      "source": [
        "# Ajustar la RNN anueestro conjunto de entrenamiento\n",
        "regressor.fit(X_train, y_train, epochs = 200, batch_size = 32)"
      ],
      "metadata": {
        "colab": {
          "base_uri": "https://localhost:8080/"
        },
        "id": "ySAmAK1hyruL",
        "outputId": "b8558c56-5bec-4b73-9778-9fc8b938679b"
      },
      "execution_count": 12,
      "outputs": [
        {
          "output_type": "stream",
          "name": "stdout",
          "text": [
            "Epoch 1/200\n",
            "38/38 [==============================] - 12s 120ms/step - loss: 0.0375\n",
            "Epoch 2/200\n",
            "38/38 [==============================] - 5s 121ms/step - loss: 0.0077\n",
            "Epoch 3/200\n",
            "38/38 [==============================] - 5s 122ms/step - loss: 0.0055\n",
            "Epoch 4/200\n",
            "38/38 [==============================] - 5s 121ms/step - loss: 0.0051\n",
            "Epoch 5/200\n",
            "38/38 [==============================] - 5s 121ms/step - loss: 0.0054\n",
            "Epoch 6/200\n",
            "38/38 [==============================] - 5s 123ms/step - loss: 0.0048\n",
            "Epoch 7/200\n",
            "38/38 [==============================] - 5s 123ms/step - loss: 0.0045\n",
            "Epoch 8/200\n",
            "38/38 [==============================] - 5s 122ms/step - loss: 0.0050\n",
            "Epoch 9/200\n",
            "38/38 [==============================] - 5s 122ms/step - loss: 0.0043\n",
            "Epoch 10/200\n",
            "38/38 [==============================] - 5s 122ms/step - loss: 0.0050\n",
            "Epoch 11/200\n",
            "38/38 [==============================] - 5s 123ms/step - loss: 0.0055\n",
            "Epoch 12/200\n",
            "38/38 [==============================] - 5s 121ms/step - loss: 0.0044\n",
            "Epoch 13/200\n",
            "38/38 [==============================] - 5s 122ms/step - loss: 0.0044\n",
            "Epoch 14/200\n",
            "38/38 [==============================] - 5s 122ms/step - loss: 0.0042\n",
            "Epoch 15/200\n",
            "38/38 [==============================] - 5s 122ms/step - loss: 0.0038\n",
            "Epoch 16/200\n",
            "38/38 [==============================] - 5s 133ms/step - loss: 0.0040\n",
            "Epoch 17/200\n",
            "38/38 [==============================] - 5s 121ms/step - loss: 0.0037\n",
            "Epoch 18/200\n",
            "38/38 [==============================] - 5s 126ms/step - loss: 0.0035\n",
            "Epoch 19/200\n",
            "38/38 [==============================] - 5s 123ms/step - loss: 0.0034\n",
            "Epoch 20/200\n",
            "38/38 [==============================] - 5s 124ms/step - loss: 0.0034\n",
            "Epoch 21/200\n",
            "38/38 [==============================] - 5s 124ms/step - loss: 0.0031\n",
            "Epoch 22/200\n",
            "38/38 [==============================] - 5s 126ms/step - loss: 0.0031\n",
            "Epoch 23/200\n",
            "38/38 [==============================] - 5s 125ms/step - loss: 0.0029\n",
            "Epoch 24/200\n",
            "38/38 [==============================] - 5s 144ms/step - loss: 0.0033\n",
            "Epoch 25/200\n",
            "38/38 [==============================] - 5s 122ms/step - loss: 0.0035\n",
            "Epoch 26/200\n",
            "38/38 [==============================] - 5s 122ms/step - loss: 0.0034\n",
            "Epoch 27/200\n",
            "38/38 [==============================] - 5s 120ms/step - loss: 0.0034\n",
            "Epoch 28/200\n",
            "38/38 [==============================] - 5s 122ms/step - loss: 0.0028\n",
            "Epoch 29/200\n",
            "38/38 [==============================] - 5s 123ms/step - loss: 0.0027\n",
            "Epoch 30/200\n",
            "38/38 [==============================] - 5s 121ms/step - loss: 0.0028\n",
            "Epoch 31/200\n",
            "38/38 [==============================] - 5s 123ms/step - loss: 0.0029\n",
            "Epoch 32/200\n",
            "38/38 [==============================] - 5s 123ms/step - loss: 0.0030\n",
            "Epoch 33/200\n",
            "38/38 [==============================] - 5s 122ms/step - loss: 0.0031\n",
            "Epoch 34/200\n",
            "38/38 [==============================] - 5s 123ms/step - loss: 0.0025\n",
            "Epoch 35/200\n",
            "38/38 [==============================] - 5s 124ms/step - loss: 0.0028\n",
            "Epoch 36/200\n",
            "38/38 [==============================] - 5s 123ms/step - loss: 0.0029\n",
            "Epoch 37/200\n",
            "38/38 [==============================] - 5s 124ms/step - loss: 0.0030\n",
            "Epoch 38/200\n",
            "38/38 [==============================] - 5s 124ms/step - loss: 0.0023\n",
            "Epoch 39/200\n",
            "38/38 [==============================] - 5s 121ms/step - loss: 0.0027\n",
            "Epoch 40/200\n",
            "38/38 [==============================] - 5s 121ms/step - loss: 0.0030\n",
            "Epoch 41/200\n",
            "38/38 [==============================] - 5s 123ms/step - loss: 0.0027\n",
            "Epoch 42/200\n",
            "38/38 [==============================] - 5s 122ms/step - loss: 0.0027\n",
            "Epoch 43/200\n",
            "38/38 [==============================] - 5s 122ms/step - loss: 0.0027\n",
            "Epoch 44/200\n",
            "38/38 [==============================] - 5s 121ms/step - loss: 0.0028\n",
            "Epoch 45/200\n",
            "38/38 [==============================] - 5s 122ms/step - loss: 0.0022\n",
            "Epoch 46/200\n",
            "38/38 [==============================] - 5s 122ms/step - loss: 0.0023\n",
            "Epoch 47/200\n",
            "38/38 [==============================] - 5s 121ms/step - loss: 0.0025\n",
            "Epoch 48/200\n",
            "38/38 [==============================] - 5s 123ms/step - loss: 0.0023\n",
            "Epoch 49/200\n",
            "38/38 [==============================] - 5s 122ms/step - loss: 0.0024\n",
            "Epoch 50/200\n",
            "38/38 [==============================] - 5s 123ms/step - loss: 0.0025\n",
            "Epoch 51/200\n",
            "38/38 [==============================] - 5s 123ms/step - loss: 0.0023\n",
            "Epoch 52/200\n",
            "38/38 [==============================] - 5s 123ms/step - loss: 0.0026\n",
            "Epoch 53/200\n",
            "38/38 [==============================] - 5s 125ms/step - loss: 0.0027\n",
            "Epoch 54/200\n",
            "38/38 [==============================] - 5s 123ms/step - loss: 0.0026\n",
            "Epoch 55/200\n",
            "38/38 [==============================] - 5s 123ms/step - loss: 0.0021\n",
            "Epoch 56/200\n",
            "38/38 [==============================] - 5s 123ms/step - loss: 0.0021\n",
            "Epoch 57/200\n",
            "38/38 [==============================] - 5s 123ms/step - loss: 0.0020\n",
            "Epoch 58/200\n",
            "38/38 [==============================] - 5s 122ms/step - loss: 0.0021\n",
            "Epoch 59/200\n",
            "38/38 [==============================] - 5s 123ms/step - loss: 0.0021\n",
            "Epoch 60/200\n",
            "38/38 [==============================] - 5s 122ms/step - loss: 0.0021\n",
            "Epoch 61/200\n",
            "38/38 [==============================] - 5s 122ms/step - loss: 0.0019\n",
            "Epoch 62/200\n",
            "38/38 [==============================] - 5s 122ms/step - loss: 0.0023\n",
            "Epoch 63/200\n",
            "38/38 [==============================] - 5s 122ms/step - loss: 0.0021\n",
            "Epoch 64/200\n",
            "38/38 [==============================] - 5s 123ms/step - loss: 0.0021\n",
            "Epoch 65/200\n",
            "38/38 [==============================] - 5s 121ms/step - loss: 0.0019\n",
            "Epoch 66/200\n",
            "38/38 [==============================] - 5s 122ms/step - loss: 0.0018\n",
            "Epoch 67/200\n",
            "38/38 [==============================] - 5s 123ms/step - loss: 0.0020\n",
            "Epoch 68/200\n",
            "38/38 [==============================] - 5s 123ms/step - loss: 0.0020\n",
            "Epoch 69/200\n",
            "38/38 [==============================] - 5s 123ms/step - loss: 0.0019\n",
            "Epoch 70/200\n",
            "38/38 [==============================] - 5s 124ms/step - loss: 0.0019\n",
            "Epoch 71/200\n",
            "38/38 [==============================] - 5s 122ms/step - loss: 0.0019\n",
            "Epoch 72/200\n",
            "38/38 [==============================] - 5s 120ms/step - loss: 0.0018\n",
            "Epoch 73/200\n",
            "38/38 [==============================] - 5s 122ms/step - loss: 0.0020\n",
            "Epoch 74/200\n",
            "38/38 [==============================] - 5s 124ms/step - loss: 0.0019\n",
            "Epoch 75/200\n",
            "38/38 [==============================] - 5s 123ms/step - loss: 0.0018\n",
            "Epoch 76/200\n",
            "38/38 [==============================] - 5s 123ms/step - loss: 0.0018\n",
            "Epoch 77/200\n",
            "38/38 [==============================] - 5s 123ms/step - loss: 0.0017\n",
            "Epoch 78/200\n",
            "38/38 [==============================] - 5s 121ms/step - loss: 0.0020\n",
            "Epoch 79/200\n",
            "38/38 [==============================] - 5s 123ms/step - loss: 0.0016\n",
            "Epoch 80/200\n",
            "38/38 [==============================] - 5s 122ms/step - loss: 0.0016\n",
            "Epoch 81/200\n",
            "38/38 [==============================] - 5s 123ms/step - loss: 0.0018\n",
            "Epoch 82/200\n",
            "38/38 [==============================] - 5s 124ms/step - loss: 0.0020\n",
            "Epoch 83/200\n",
            "38/38 [==============================] - 5s 123ms/step - loss: 0.0016\n",
            "Epoch 84/200\n",
            "38/38 [==============================] - 5s 122ms/step - loss: 0.0016\n",
            "Epoch 85/200\n",
            "38/38 [==============================] - 5s 123ms/step - loss: 0.0017\n",
            "Epoch 86/200\n",
            "38/38 [==============================] - 5s 123ms/step - loss: 0.0016\n",
            "Epoch 87/200\n",
            "38/38 [==============================] - 5s 125ms/step - loss: 0.0015\n",
            "Epoch 88/200\n",
            "38/38 [==============================] - 5s 126ms/step - loss: 0.0017\n",
            "Epoch 89/200\n",
            "38/38 [==============================] - 5s 125ms/step - loss: 0.0015\n",
            "Epoch 90/200\n",
            "38/38 [==============================] - 5s 125ms/step - loss: 0.0015\n",
            "Epoch 91/200\n",
            "38/38 [==============================] - 5s 123ms/step - loss: 0.0015\n",
            "Epoch 92/200\n",
            "38/38 [==============================] - 5s 122ms/step - loss: 0.0014\n",
            "Epoch 93/200\n",
            "38/38 [==============================] - 5s 123ms/step - loss: 0.0014\n",
            "Epoch 94/200\n",
            "38/38 [==============================] - 5s 122ms/step - loss: 0.0014\n",
            "Epoch 95/200\n",
            "38/38 [==============================] - 5s 123ms/step - loss: 0.0014\n",
            "Epoch 96/200\n",
            "38/38 [==============================] - 5s 124ms/step - loss: 0.0014\n",
            "Epoch 97/200\n",
            "38/38 [==============================] - 5s 121ms/step - loss: 0.0014\n",
            "Epoch 98/200\n",
            "38/38 [==============================] - 5s 123ms/step - loss: 0.0016\n",
            "Epoch 99/200\n",
            "38/38 [==============================] - 5s 123ms/step - loss: 0.0016\n",
            "Epoch 100/200\n",
            "38/38 [==============================] - 5s 122ms/step - loss: 0.0015\n",
            "Epoch 101/200\n",
            "38/38 [==============================] - 5s 121ms/step - loss: 0.0014\n",
            "Epoch 102/200\n",
            "38/38 [==============================] - 5s 123ms/step - loss: 0.0014\n",
            "Epoch 103/200\n",
            "38/38 [==============================] - 5s 121ms/step - loss: 0.0013\n",
            "Epoch 104/200\n",
            "38/38 [==============================] - 5s 122ms/step - loss: 0.0013\n",
            "Epoch 105/200\n",
            "38/38 [==============================] - 5s 123ms/step - loss: 0.0015\n",
            "Epoch 106/200\n",
            "38/38 [==============================] - 5s 123ms/step - loss: 0.0014\n",
            "Epoch 107/200\n",
            "38/38 [==============================] - 5s 129ms/step - loss: 0.0013\n",
            "Epoch 108/200\n",
            "38/38 [==============================] - 6s 156ms/step - loss: 0.0013\n",
            "Epoch 109/200\n",
            "38/38 [==============================] - 5s 127ms/step - loss: 0.0013\n",
            "Epoch 110/200\n",
            "38/38 [==============================] - 5s 122ms/step - loss: 0.0015\n",
            "Epoch 111/200\n",
            "38/38 [==============================] - 5s 123ms/step - loss: 0.0014\n",
            "Epoch 112/200\n",
            "38/38 [==============================] - 5s 124ms/step - loss: 0.0014\n",
            "Epoch 113/200\n",
            "38/38 [==============================] - 5s 125ms/step - loss: 0.0014\n",
            "Epoch 114/200\n",
            "38/38 [==============================] - 5s 121ms/step - loss: 0.0013\n",
            "Epoch 115/200\n",
            "38/38 [==============================] - 5s 126ms/step - loss: 0.0014\n",
            "Epoch 116/200\n",
            "38/38 [==============================] - 5s 124ms/step - loss: 0.0012\n",
            "Epoch 117/200\n",
            "38/38 [==============================] - 5s 125ms/step - loss: 0.0014\n",
            "Epoch 118/200\n",
            "38/38 [==============================] - 5s 125ms/step - loss: 0.0013\n",
            "Epoch 119/200\n",
            "38/38 [==============================] - 5s 124ms/step - loss: 0.0013\n",
            "Epoch 120/200\n",
            "38/38 [==============================] - 5s 125ms/step - loss: 0.0014\n",
            "Epoch 121/200\n",
            "38/38 [==============================] - 5s 125ms/step - loss: 0.0014\n",
            "Epoch 122/200\n",
            "38/38 [==============================] - 5s 123ms/step - loss: 0.0013\n",
            "Epoch 123/200\n",
            "38/38 [==============================] - 5s 124ms/step - loss: 0.0012\n",
            "Epoch 124/200\n",
            "38/38 [==============================] - 5s 124ms/step - loss: 0.0012\n",
            "Epoch 125/200\n",
            "38/38 [==============================] - 5s 122ms/step - loss: 0.0014\n",
            "Epoch 126/200\n",
            "38/38 [==============================] - 5s 124ms/step - loss: 0.0012\n",
            "Epoch 127/200\n",
            "38/38 [==============================] - 5s 121ms/step - loss: 0.0012\n",
            "Epoch 128/200\n",
            "38/38 [==============================] - 5s 122ms/step - loss: 0.0012\n",
            "Epoch 129/200\n",
            "38/38 [==============================] - 5s 122ms/step - loss: 0.0011\n",
            "Epoch 130/200\n",
            "38/38 [==============================] - 5s 123ms/step - loss: 0.0012\n",
            "Epoch 131/200\n",
            "38/38 [==============================] - 5s 128ms/step - loss: 0.0013\n",
            "Epoch 132/200\n",
            "38/38 [==============================] - 5s 123ms/step - loss: 0.0013\n",
            "Epoch 133/200\n",
            "38/38 [==============================] - 5s 126ms/step - loss: 0.0013\n",
            "Epoch 134/200\n",
            "38/38 [==============================] - 5s 121ms/step - loss: 0.0012\n",
            "Epoch 135/200\n",
            "38/38 [==============================] - 5s 123ms/step - loss: 0.0013\n",
            "Epoch 136/200\n",
            "38/38 [==============================] - 5s 123ms/step - loss: 0.0011\n",
            "Epoch 137/200\n",
            "38/38 [==============================] - 5s 122ms/step - loss: 0.0011\n",
            "Epoch 138/200\n",
            "38/38 [==============================] - 5s 121ms/step - loss: 0.0012\n",
            "Epoch 139/200\n",
            "38/38 [==============================] - 5s 123ms/step - loss: 0.0012\n",
            "Epoch 140/200\n",
            "38/38 [==============================] - 5s 125ms/step - loss: 0.0012\n",
            "Epoch 141/200\n",
            "38/38 [==============================] - 5s 123ms/step - loss: 0.0012\n",
            "Epoch 142/200\n",
            "38/38 [==============================] - 5s 124ms/step - loss: 0.0012\n",
            "Epoch 143/200\n",
            "38/38 [==============================] - 5s 123ms/step - loss: 9.9296e-04\n",
            "Epoch 144/200\n",
            "38/38 [==============================] - 5s 121ms/step - loss: 0.0014\n",
            "Epoch 145/200\n",
            "38/38 [==============================] - 5s 123ms/step - loss: 0.0012\n",
            "Epoch 146/200\n",
            "38/38 [==============================] - 5s 125ms/step - loss: 0.0011\n",
            "Epoch 147/200\n",
            "38/38 [==============================] - 5s 123ms/step - loss: 0.0013\n",
            "Epoch 148/200\n",
            "38/38 [==============================] - 5s 120ms/step - loss: 0.0011\n",
            "Epoch 149/200\n",
            "38/38 [==============================] - 5s 122ms/step - loss: 0.0010\n",
            "Epoch 150/200\n",
            "38/38 [==============================] - 5s 122ms/step - loss: 0.0012\n",
            "Epoch 151/200\n",
            "38/38 [==============================] - 5s 124ms/step - loss: 0.0010\n",
            "Epoch 152/200\n",
            "38/38 [==============================] - 5s 122ms/step - loss: 0.0013\n",
            "Epoch 153/200\n",
            "38/38 [==============================] - 5s 124ms/step - loss: 0.0012\n",
            "Epoch 154/200\n",
            "38/38 [==============================] - 5s 123ms/step - loss: 0.0011\n",
            "Epoch 155/200\n",
            "38/38 [==============================] - 5s 122ms/step - loss: 0.0012\n",
            "Epoch 156/200\n",
            "38/38 [==============================] - 5s 123ms/step - loss: 0.0012\n",
            "Epoch 157/200\n",
            "38/38 [==============================] - 5s 124ms/step - loss: 0.0011\n",
            "Epoch 158/200\n",
            "38/38 [==============================] - 5s 124ms/step - loss: 0.0011\n",
            "Epoch 159/200\n",
            "38/38 [==============================] - 5s 124ms/step - loss: 0.0011\n",
            "Epoch 160/200\n",
            "38/38 [==============================] - 5s 125ms/step - loss: 0.0012\n",
            "Epoch 161/200\n",
            "38/38 [==============================] - 5s 125ms/step - loss: 0.0011\n",
            "Epoch 162/200\n",
            "38/38 [==============================] - 5s 123ms/step - loss: 0.0011\n",
            "Epoch 163/200\n",
            "38/38 [==============================] - 5s 124ms/step - loss: 9.9874e-04\n",
            "Epoch 164/200\n",
            "38/38 [==============================] - 5s 126ms/step - loss: 0.0012\n",
            "Epoch 165/200\n",
            "38/38 [==============================] - 5s 126ms/step - loss: 0.0012\n",
            "Epoch 166/200\n",
            "38/38 [==============================] - 5s 124ms/step - loss: 0.0010\n",
            "Epoch 167/200\n",
            "38/38 [==============================] - 5s 125ms/step - loss: 0.0011\n",
            "Epoch 168/200\n",
            "38/38 [==============================] - 5s 126ms/step - loss: 0.0011\n",
            "Epoch 169/200\n",
            "38/38 [==============================] - 5s 123ms/step - loss: 0.0011\n",
            "Epoch 170/200\n",
            "38/38 [==============================] - 5s 124ms/step - loss: 0.0011\n",
            "Epoch 171/200\n",
            "38/38 [==============================] - 5s 124ms/step - loss: 0.0011\n",
            "Epoch 172/200\n",
            "38/38 [==============================] - 5s 124ms/step - loss: 0.0010\n",
            "Epoch 173/200\n",
            "38/38 [==============================] - 5s 123ms/step - loss: 0.0011\n",
            "Epoch 174/200\n",
            "38/38 [==============================] - 5s 124ms/step - loss: 0.0012\n",
            "Epoch 175/200\n",
            "38/38 [==============================] - 5s 125ms/step - loss: 0.0011\n",
            "Epoch 176/200\n",
            "38/38 [==============================] - 5s 124ms/step - loss: 0.0011\n",
            "Epoch 177/200\n",
            "38/38 [==============================] - 5s 125ms/step - loss: 0.0011\n",
            "Epoch 178/200\n",
            "38/38 [==============================] - 5s 121ms/step - loss: 9.9897e-04\n",
            "Epoch 179/200\n",
            "38/38 [==============================] - 5s 125ms/step - loss: 9.6086e-04\n",
            "Epoch 180/200\n",
            "38/38 [==============================] - 5s 125ms/step - loss: 9.6476e-04\n",
            "Epoch 181/200\n",
            "38/38 [==============================] - 5s 124ms/step - loss: 0.0012\n",
            "Epoch 182/200\n",
            "38/38 [==============================] - 5s 125ms/step - loss: 0.0011\n",
            "Epoch 183/200\n",
            "38/38 [==============================] - 5s 127ms/step - loss: 0.0010\n",
            "Epoch 184/200\n",
            "38/38 [==============================] - 5s 124ms/step - loss: 0.0010\n",
            "Epoch 185/200\n",
            "38/38 [==============================] - 5s 125ms/step - loss: 0.0010\n",
            "Epoch 186/200\n",
            "38/38 [==============================] - 5s 125ms/step - loss: 0.0011\n",
            "Epoch 187/200\n",
            "38/38 [==============================] - 5s 126ms/step - loss: 0.0011\n",
            "Epoch 188/200\n",
            "38/38 [==============================] - 5s 123ms/step - loss: 0.0013\n",
            "Epoch 189/200\n",
            "38/38 [==============================] - 5s 126ms/step - loss: 0.0010\n",
            "Epoch 190/200\n",
            "38/38 [==============================] - 5s 122ms/step - loss: 0.0010\n",
            "Epoch 191/200\n",
            "38/38 [==============================] - 5s 125ms/step - loss: 0.0010\n",
            "Epoch 192/200\n",
            "38/38 [==============================] - 5s 123ms/step - loss: 0.0010\n",
            "Epoch 193/200\n",
            "38/38 [==============================] - 5s 124ms/step - loss: 0.0010\n",
            "Epoch 194/200\n",
            "38/38 [==============================] - 5s 124ms/step - loss: 9.2556e-04\n",
            "Epoch 195/200\n",
            "38/38 [==============================] - 5s 123ms/step - loss: 9.7610e-04\n",
            "Epoch 196/200\n",
            "38/38 [==============================] - 5s 127ms/step - loss: 0.0011\n",
            "Epoch 197/200\n",
            "38/38 [==============================] - 5s 125ms/step - loss: 0.0010\n",
            "Epoch 198/200\n",
            "38/38 [==============================] - 5s 121ms/step - loss: 9.4911e-04\n",
            "Epoch 199/200\n",
            "38/38 [==============================] - 5s 121ms/step - loss: 0.0010\n",
            "Epoch 200/200\n",
            "38/38 [==============================] - 5s 121ms/step - loss: 0.0010\n"
          ]
        },
        {
          "output_type": "execute_result",
          "data": {
            "text/plain": [
              "<keras.callbacks.History at 0x7fc0d65b7b50>"
            ]
          },
          "metadata": {},
          "execution_count": 12
        }
      ]
    },
    {
      "cell_type": "markdown",
      "source": [
        "### Ajustar las predicciones y visualizar los resultados"
      ],
      "metadata": {
        "id": "bUIAfy6y1a5q"
      }
    },
    {
      "cell_type": "code",
      "source": [
        "dataset_test = pd.read_csv('https://raw.githubusercontent.com/joanby/deeplearning-az/master/datasets/Part%203%20-%20Recurrent%20Neural%20Networks%20(RNN)/Google_Stock_Price_Test.csv')\n",
        "real_stock_price = dataset_test.iloc[:, 1:2].values\n",
        "real_stock_price"
      ],
      "metadata": {
        "colab": {
          "base_uri": "https://localhost:8080/"
        },
        "id": "68OEogH31YxX",
        "outputId": "5b266faa-658b-4710-831e-2afeb6d4a6b1"
      },
      "execution_count": 13,
      "outputs": [
        {
          "output_type": "execute_result",
          "data": {
            "text/plain": [
              "array([[778.81],\n",
              "       [788.36],\n",
              "       [786.08],\n",
              "       [795.26],\n",
              "       [806.4 ],\n",
              "       [807.86],\n",
              "       [805.  ],\n",
              "       [807.14],\n",
              "       [807.48],\n",
              "       [807.08],\n",
              "       [805.81],\n",
              "       [805.12],\n",
              "       [806.91],\n",
              "       [807.25],\n",
              "       [822.3 ],\n",
              "       [829.62],\n",
              "       [837.81],\n",
              "       [834.71],\n",
              "       [814.66],\n",
              "       [796.86]])"
            ]
          },
          "metadata": {},
          "execution_count": 13
        }
      ]
    },
    {
      "cell_type": "code",
      "source": [
        "dataset_total = pd.concat((dataset_train['Open'], dataset_test['Open']), axis = 0)\n",
        "inputs = dataset_total[len(dataset_total) - len(dataset_test) - 60 :].values\n",
        "inputs = inputs.reshape(-1, 1)\n",
        "inputs = scaler.transform(inputs)"
      ],
      "metadata": {
        "id": "47jSjv4eYwvx"
      },
      "execution_count": 15,
      "outputs": []
    },
    {
      "cell_type": "code",
      "source": [
        "X_test = []\n",
        "\n",
        "for i in range(60, 80):\n",
        "  X_test.append(inputs[i - 60: i, 0])\n",
        "\n",
        "X_test = np.array(X_test)\n",
        "\n",
        "X_test = np.reshape(X_test, (X_test.shape[0], X_test.shape[1], 1) )\n"
      ],
      "metadata": {
        "id": "HCKJrnE7auVQ"
      },
      "execution_count": 16,
      "outputs": []
    },
    {
      "cell_type": "code",
      "source": [
        "predicted_stock_price = regressor.predict(X_test)"
      ],
      "metadata": {
        "id": "lExgam33bdYw"
      },
      "execution_count": 17,
      "outputs": []
    },
    {
      "cell_type": "code",
      "source": [
        "predicted_stock_price = scaler.inverse_transform( predicted_stock_price )"
      ],
      "metadata": {
        "id": "zfNiTUlKb08f"
      },
      "execution_count": 18,
      "outputs": []
    },
    {
      "cell_type": "code",
      "source": [
        "predicted_stock_price"
      ],
      "metadata": {
        "colab": {
          "base_uri": "https://localhost:8080/"
        },
        "id": "tKuEVOU8b7aS",
        "outputId": "bf876f32-ad43-4074-e7db-a6c5c34e8fab"
      },
      "execution_count": 19,
      "outputs": [
        {
          "output_type": "execute_result",
          "data": {
            "text/plain": [
              "array([[774.93976],\n",
              "       [772.2994 ],\n",
              "       [777.8547 ],\n",
              "       [777.3388 ],\n",
              "       [782.552  ],\n",
              "       [790.8993 ],\n",
              "       [792.94037],\n",
              "       [791.1699 ],\n",
              "       [792.7284 ],\n",
              "       [793.9428 ],\n",
              "       [794.2543 ],\n",
              "       [793.7957 ],\n",
              "       [793.5699 ],\n",
              "       [794.9819 ],\n",
              "       [795.6148 ],\n",
              "       [805.7388 ],\n",
              "       [812.1645 ],\n",
              "       [818.11487],\n",
              "       [817.0226 ],\n",
              "       [804.3095 ]], dtype=float32)"
            ]
          },
          "metadata": {},
          "execution_count": 19
        }
      ]
    },
    {
      "cell_type": "code",
      "source": [
        "# Visualizar resultados\n",
        "plt.plot(real_stock_price, color = 'red', label = 'Precio real de la accion de Google')\n",
        "plt.plot(predicted_stock_price, color = 'blue', label = 'Precio predicho de la accion de Google')\n",
        "plt.title('Prediccion con una RNN del valor de las acciones de Google')\n",
        "plt.xlabel('Fecha')\n",
        "plt.ylabel('Precio de la acción de Google')\n",
        "plt.legend()\n",
        "plt.show()"
      ],
      "metadata": {
        "colab": {
          "base_uri": "https://localhost:8080/",
          "height": 295
        },
        "id": "-GMEeqK7cAfG",
        "outputId": "742c6c3b-9aaa-42e8-f3b1-48b21aa2038d"
      },
      "execution_count": 20,
      "outputs": [
        {
          "output_type": "display_data",
          "data": {
            "image/png": "[encoded data removed]",
            "text/plain": [
              "<Figure size 432x288 with 1 Axes>"
            ]
          },
          "metadata": {
            "needs_background": "light"
          }
        }
      ]
    },
    {
      "cell_type": "code",
      "source": [
        "import math\n",
        "from sklearn.metrics import mean_squared_error\n",
        "rmse = math.sqrt(mean_squared_error(real_stock_price, predicted_stock_price))"
      ],
      "metadata": {
        "id": "BySUzdS1dS_o"
      },
      "execution_count": 21,
      "outputs": []
    },
    {
      "cell_type": "code",
      "source": [
        "rmse"
      ],
      "metadata": {
        "colab": {
          "base_uri": "https://localhost:8080/"
        },
        "id": "5QSlt3yRdUU4",
        "outputId": "b4505897-e344-4048-d08f-0acdf6b0aa50"
      },
      "execution_count": 22,
      "outputs": [
        {
          "output_type": "execute_result",
          "data": {
            "text/plain": [
              "16.086693338979757"
            ]
          },
          "metadata": {},
          "execution_count": 22
        }
      ]
    }
  ]
}