{
  "nbformat": 4,
  "nbformat_minor": 0,
  "metadata": {
    "colab": {
      "name": "Autoencoders.ipynb",
      "provenance": [],
      "collapsed_sections": []
    },
    "kernelspec": {
      "name": "python3",
      "display_name": "Python 3"
    },
    "language_info": {
      "name": "python"
    }
  },
  "cells": [
    {
      "cell_type": "markdown",
      "source": [
        "# Máquinas de Boltzman restringidas"
      ],
      "metadata": {
        "id": "DMZ_Q6MbnGI1"
      }
    },
    {
      "cell_type": "code",
      "source": [
        "# Importar las librerias\n",
        "import numpy as np\n",
        "import pandas as pd\n",
        "import torch\n",
        "import torch.nn as nn\n",
        "import torch.nn.parallel\n",
        "import torch.optim as optim\n",
        "import torch.utils.data\n",
        "from torch.autograd import Variable"
      ],
      "metadata": {
        "id": "dvigKlUSnG4V"
      },
      "execution_count": 4,
      "outputs": []
    },
    {
      "cell_type": "code",
      "source": [
        "# importar el dataset\n",
        "movies = pd.read_csv('https://raw.githubusercontent.com/joanby/deeplearning-az/master/datasets/Part%205%20-%20Boltzmann%20Machines%20(BM)/ml-1m/movies.dat',\n",
        "                     sep = '::',\n",
        "                     header = None,\n",
        "                     engine = 'python',\n",
        "                     encoding = 'latin-1')\n",
        "movies.head(3)"
      ],
      "metadata": {
        "colab": {
          "base_uri": "https://localhost:8080/",
          "height": 143
        },
        "id": "EB-ZtWnaobPp",
        "outputId": "7d6b97b5-ef0c-4625-9887-ed0fcdf7bbb4"
      },
      "execution_count": 5,
      "outputs": [
        {
          "output_type": "execute_result",
          "data": {
            "text/html": [
              "\n",
              "  <div id=\"df-f269fd3f-1aed-40a6-80a8-5f912286268a\">\n",
              "    <div class=\"colab-df-container\">\n",
              "      <div>\n",
              "<style scoped>\n",
              "    .dataframe tbody tr th:only-of-type {\n",
              "        vertical-align: middle;\n",
              "    }\n",
              "\n",
              "    .dataframe tbody tr th {\n",
              "        vertical-align: top;\n",
              "    }\n",
              "\n",
              "    .dataframe thead th {\n",
              "        text-align: right;\n",
              "    }\n",
              "</style>\n",
              "<table border=\"1\" class=\"dataframe\">\n",
              "  <thead>\n",
              "    <tr style=\"text-align: right;\">\n",
              "      <th></th>\n",
              "      <th>0</th>\n",
              "      <th>1</th>\n",
              "      <th>2</th>\n",
              "    </tr>\n",
              "  </thead>\n",
              "  <tbody>\n",
              "    <tr>\n",
              "      <th>0</th>\n",
              "      <td>1</td>\n",
              "      <td>Toy Story (1995)</td>\n",
              "      <td>Animation|Children's|Comedy</td>\n",
              "    </tr>\n",
              "    <tr>\n",
              "      <th>1</th>\n",
              "      <td>2</td>\n",
              "      <td>Jumanji (1995)</td>\n",
              "      <td>Adventure|Children's|Fantasy</td>\n",
              "    </tr>\n",
              "    <tr>\n",
              "      <th>2</th>\n",
              "      <td>3</td>\n",
              "      <td>Grumpier Old Men (1995)</td>\n",
              "      <td>Comedy|Romance</td>\n",
              "    </tr>\n",
              "  </tbody>\n",
              "</table>\n",
              "</div>\n",
              "      <button class=\"colab-df-convert\" onclick=\"convertToInteractive('df-f269fd3f-1aed-40a6-80a8-5f912286268a')\"\n",
              "              title=\"Convert this dataframe to an interactive table.\"\n",
              "              style=\"display:none;\">\n",
              "        \n",
              "  <svg xmlns=\"http://www.w3.org/2000/svg\" height=\"24px\"viewBox=\"0 0 24 24\"\n",
              "       width=\"24px\">\n",
              "    <path d=\"M0 0h24v24H0V0z\" fill=\"none\"/>\n",
              "    <path d=\"M18.56 5.44l.94 2.06.94-2.06 2.06-.94-2.06-.94-.94-2.06-.94 2.06-2.06.94zm-11 1L8.5 8.5l.94-2.06 2.06-.94-2.06-.94L8.5 2.5l-.94 2.06-2.06.94zm10 10l.94 2.06.94-2.06 2.06-.94-2.06-.94-.94-2.06-.94 2.06-2.06.94z\"/><path d=\"M17.41 7.96l-1.37-1.37c-.4-.4-.92-.59-1.43-.59-.52 0-1.04.2-1.43.59L10.3 9.45l-7.72 7.72c-.78.78-.78 2.05 0 2.83L4 21.41c.39.39.9.59 1.41.59.51 0 1.02-.2 1.41-.59l7.78-7.78 2.81-2.81c.8-.78.8-2.07 0-2.86zM5.41 20L4 18.59l7.72-7.72 1.47 1.35L5.41 20z\"/>\n",
              "  </svg>\n",
              "      </button>\n",
              "      \n",
              "  <style>\n",
              "    .colab-df-container {\n",
              "      display:flex;\n",
              "      flex-wrap:wrap;\n",
              "      gap: 12px;\n",
              "    }\n",
              "\n",
              "    .colab-df-convert {\n",
              "      background-color: #E8F0FE;\n",
              "      border: none;\n",
              "      border-radius: 50%;\n",
              "      cursor: pointer;\n",
              "      display: none;\n",
              "      fill: #1967D2;\n",
              "      height: 32px;\n",
              "      padding: 0 0 0 0;\n",
              "      width: 32px;\n",
              "    }\n",
              "\n",
              "    .colab-df-convert:hover {\n",
              "      background-color: #E2EBFA;\n",
              "      box-shadow: 0px 1px 2px rgba(60, 64, 67, 0.3), 0px 1px 3px 1px rgba(60, 64, 67, 0.15);\n",
              "      fill: #174EA6;\n",
              "    }\n",
              "\n",
              "    [theme=dark] .colab-df-convert {\n",
              "      background-color: #3B4455;\n",
              "      fill: #D2E3FC;\n",
              "    }\n",
              "\n",
              "    [theme=dark] .colab-df-convert:hover {\n",
              "      background-color: #434B5C;\n",
              "      box-shadow: 0px 1px 3px 1px rgba(0, 0, 0, 0.15);\n",
              "      filter: drop-shadow(0px 1px 2px rgba(0, 0, 0, 0.3));\n",
              "      fill: #FFFFFF;\n",
              "    }\n",
              "  </style>\n",
              "\n",
              "      <script>\n",
              "        const buttonEl =\n",
              "          document.querySelector('#df-f269fd3f-1aed-40a6-80a8-5f912286268a button.colab-df-convert');\n",
              "        buttonEl.style.display =\n",
              "          google.colab.kernel.accessAllowed ? 'block' : 'none';\n",
              "\n",
              "        async function convertToInteractive(key) {\n",
              "          const element = document.querySelector('#df-f269fd3f-1aed-40a6-80a8-5f912286268a');\n",
              "          const dataTable =\n",
              "            await google.colab.kernel.invokeFunction('convertToInteractive',\n",
              "                                                     [key], {});\n",
              "          if (!dataTable) return;\n",
              "\n",
              "          const docLinkHtml = 'Like what you see? Visit the ' +\n",
              "            '<a target=\"_blank\" href=https://colab.research.google.com/notebooks/data_table.ipynb>data table notebook</a>'\n",
              "            + ' to learn more about interactive tables.';\n",
              "          element.innerHTML = '';\n",
              "          dataTable['output_type'] = 'display_data';\n",
              "          await google.colab.output.renderOutput(dataTable, element);\n",
              "          const docLink = document.createElement('div');\n",
              "          docLink.innerHTML = docLinkHtml;\n",
              "          element.appendChild(docLink);\n",
              "        }\n",
              "      </script>\n",
              "    </div>\n",
              "  </div>\n",
              "  "
            ],
            "text/plain": [
              "   0                        1                             2\n",
              "0  1         Toy Story (1995)   Animation|Children's|Comedy\n",
              "1  2           Jumanji (1995)  Adventure|Children's|Fantasy\n",
              "2  3  Grumpier Old Men (1995)                Comedy|Romance"
            ]
          },
          "metadata": {},
          "execution_count": 5
        }
      ]
    },
    {
      "cell_type": "code",
      "source": [
        "movies.shape"
      ],
      "metadata": {
        "colab": {
          "base_uri": "https://localhost:8080/"
        },
        "id": "1TtBMyEqpgwz",
        "outputId": "6d0b142f-4c4b-4fbd-8042-9884bda723b5"
      },
      "execution_count": 6,
      "outputs": [
        {
          "output_type": "execute_result",
          "data": {
            "text/plain": [
              "(3883, 3)"
            ]
          },
          "metadata": {},
          "execution_count": 6
        }
      ]
    },
    {
      "cell_type": "code",
      "source": [
        "users = pd.read_csv('https://raw.githubusercontent.com/joanby/deeplearning-az/master/datasets/Part%205%20-%20Boltzmann%20Machines%20(BM)/ml-1m/users.dat',\n",
        "                     sep = '::',\n",
        "                     header = None,\n",
        "                     engine = 'python',\n",
        "                     encoding = 'latin-1')\n",
        "users.head(3)"
      ],
      "metadata": {
        "colab": {
          "base_uri": "https://localhost:8080/",
          "height": 143
        },
        "id": "o79uMJfKpo8W",
        "outputId": "7837a9b8-afc8-452a-fd36-1d20260f2a48"
      },
      "execution_count": 7,
      "outputs": [
        {
          "output_type": "execute_result",
          "data": {
            "text/html": [
              "\n",
              "  <div id=\"df-2505f6d1-429f-4214-b805-2f161b330236\">\n",
              "    <div class=\"colab-df-container\">\n",
              "      <div>\n",
              "<style scoped>\n",
              "    .dataframe tbody tr th:only-of-type {\n",
              "        vertical-align: middle;\n",
              "    }\n",
              "\n",
              "    .dataframe tbody tr th {\n",
              "        vertical-align: top;\n",
              "    }\n",
              "\n",
              "    .dataframe thead th {\n",
              "        text-align: right;\n",
              "    }\n",
              "</style>\n",
              "<table border=\"1\" class=\"dataframe\">\n",
              "  <thead>\n",
              "    <tr style=\"text-align: right;\">\n",
              "      <th></th>\n",
              "      <th>0</th>\n",
              "      <th>1</th>\n",
              "      <th>2</th>\n",
              "      <th>3</th>\n",
              "      <th>4</th>\n",
              "    </tr>\n",
              "  </thead>\n",
              "  <tbody>\n",
              "    <tr>\n",
              "      <th>0</th>\n",
              "      <td>1</td>\n",
              "      <td>F</td>\n",
              "      <td>1</td>\n",
              "      <td>10</td>\n",
              "      <td>48067</td>\n",
              "    </tr>\n",
              "    <tr>\n",
              "      <th>1</th>\n",
              "      <td>2</td>\n",
              "      <td>M</td>\n",
              "      <td>56</td>\n",
              "      <td>16</td>\n",
              "      <td>70072</td>\n",
              "    </tr>\n",
              "    <tr>\n",
              "      <th>2</th>\n",
              "      <td>3</td>\n",
              "      <td>M</td>\n",
              "      <td>25</td>\n",
              "      <td>15</td>\n",
              "      <td>55117</td>\n",
              "    </tr>\n",
              "  </tbody>\n",
              "</table>\n",
              "</div>\n",
              "      <button class=\"colab-df-convert\" onclick=\"convertToInteractive('df-2505f6d1-429f-4214-b805-2f161b330236')\"\n",
              "              title=\"Convert this dataframe to an interactive table.\"\n",
              "              style=\"display:none;\">\n",
              "        \n",
              "  <svg xmlns=\"http://www.w3.org/2000/svg\" height=\"24px\"viewBox=\"0 0 24 24\"\n",
              "       width=\"24px\">\n",
              "    <path d=\"M0 0h24v24H0V0z\" fill=\"none\"/>\n",
              "    <path d=\"M18.56 5.44l.94 2.06.94-2.06 2.06-.94-2.06-.94-.94-2.06-.94 2.06-2.06.94zm-11 1L8.5 8.5l.94-2.06 2.06-.94-2.06-.94L8.5 2.5l-.94 2.06-2.06.94zm10 10l.94 2.06.94-2.06 2.06-.94-2.06-.94-.94-2.06-.94 2.06-2.06.94z\"/><path d=\"M17.41 7.96l-1.37-1.37c-.4-.4-.92-.59-1.43-.59-.52 0-1.04.2-1.43.59L10.3 9.45l-7.72 7.72c-.78.78-.78 2.05 0 2.83L4 21.41c.39.39.9.59 1.41.59.51 0 1.02-.2 1.41-.59l7.78-7.78 2.81-2.81c.8-.78.8-2.07 0-2.86zM5.41 20L4 18.59l7.72-7.72 1.47 1.35L5.41 20z\"/>\n",
              "  </svg>\n",
              "      </button>\n",
              "      \n",
              "  <style>\n",
              "    .colab-df-container {\n",
              "      display:flex;\n",
              "      flex-wrap:wrap;\n",
              "      gap: 12px;\n",
              "    }\n",
              "\n",
              "    .colab-df-convert {\n",
              "      background-color: #E8F0FE;\n",
              "      border: none;\n",
              "      border-radius: 50%;\n",
              "      cursor: pointer;\n",
              "      display: none;\n",
              "      fill: #1967D2;\n",
              "      height: 32px;\n",
              "      padding: 0 0 0 0;\n",
              "      width: 32px;\n",
              "    }\n",
              "\n",
              "    .colab-df-convert:hover {\n",
              "      background-color: #E2EBFA;\n",
              "      box-shadow: 0px 1px 2px rgba(60, 64, 67, 0.3), 0px 1px 3px 1px rgba(60, 64, 67, 0.15);\n",
              "      fill: #174EA6;\n",
              "    }\n",
              "\n",
              "    [theme=dark] .colab-df-convert {\n",
              "      background-color: #3B4455;\n",
              "      fill: #D2E3FC;\n",
              "    }\n",
              "\n",
              "    [theme=dark] .colab-df-convert:hover {\n",
              "      background-color: #434B5C;\n",
              "      box-shadow: 0px 1px 3px 1px rgba(0, 0, 0, 0.15);\n",
              "      filter: drop-shadow(0px 1px 2px rgba(0, 0, 0, 0.3));\n",
              "      fill: #FFFFFF;\n",
              "    }\n",
              "  </style>\n",
              "\n",
              "      <script>\n",
              "        const buttonEl =\n",
              "          document.querySelector('#df-2505f6d1-429f-4214-b805-2f161b330236 button.colab-df-convert');\n",
              "        buttonEl.style.display =\n",
              "          google.colab.kernel.accessAllowed ? 'block' : 'none';\n",
              "\n",
              "        async function convertToInteractive(key) {\n",
              "          const element = document.querySelector('#df-2505f6d1-429f-4214-b805-2f161b330236');\n",
              "          const dataTable =\n",
              "            await google.colab.kernel.invokeFunction('convertToInteractive',\n",
              "                                                     [key], {});\n",
              "          if (!dataTable) return;\n",
              "\n",
              "          const docLinkHtml = 'Like what you see? Visit the ' +\n",
              "            '<a target=\"_blank\" href=https://colab.research.google.com/notebooks/data_table.ipynb>data table notebook</a>'\n",
              "            + ' to learn more about interactive tables.';\n",
              "          element.innerHTML = '';\n",
              "          dataTable['output_type'] = 'display_data';\n",
              "          await google.colab.output.renderOutput(dataTable, element);\n",
              "          const docLink = document.createElement('div');\n",
              "          docLink.innerHTML = docLinkHtml;\n",
              "          element.appendChild(docLink);\n",
              "        }\n",
              "      </script>\n",
              "    </div>\n",
              "  </div>\n",
              "  "
            ],
            "text/plain": [
              "   0  1   2   3      4\n",
              "0  1  F   1  10  48067\n",
              "1  2  M  56  16  70072\n",
              "2  3  M  25  15  55117"
            ]
          },
          "metadata": {},
          "execution_count": 7
        }
      ]
    },
    {
      "cell_type": "code",
      "source": [
        "ratings = pd.read_csv('https://raw.githubusercontent.com/joanby/deeplearning-az/master/datasets/Part%205%20-%20Boltzmann%20Machines%20(BM)/ml-1m/ratings.dat',\n",
        "                     sep = '::',\n",
        "                     header = None,\n",
        "                     engine = 'python',\n",
        "                     encoding = 'latin-1')\n",
        "ratings.head(3)"
      ],
      "metadata": {
        "colab": {
          "base_uri": "https://localhost:8080/",
          "height": 143
        },
        "id": "NOwgjX0Qqq9k",
        "outputId": "e8ac53dd-aec9-4835-e61e-97ca27bf5faf"
      },
      "execution_count": 8,
      "outputs": [
        {
          "output_type": "execute_result",
          "data": {
            "text/html": [
              "\n",
              "  <div id=\"df-23a25d9a-0d50-4eac-b2ed-8b4002b10b50\">\n",
              "    <div class=\"colab-df-container\">\n",
              "      <div>\n",
              "<style scoped>\n",
              "    .dataframe tbody tr th:only-of-type {\n",
              "        vertical-align: middle;\n",
              "    }\n",
              "\n",
              "    .dataframe tbody tr th {\n",
              "        vertical-align: top;\n",
              "    }\n",
              "\n",
              "    .dataframe thead th {\n",
              "        text-align: right;\n",
              "    }\n",
              "</style>\n",
              "<table border=\"1\" class=\"dataframe\">\n",
              "  <thead>\n",
              "    <tr style=\"text-align: right;\">\n",
              "      <th></th>\n",
              "      <th>0</th>\n",
              "      <th>1</th>\n",
              "      <th>2</th>\n",
              "      <th>3</th>\n",
              "    </tr>\n",
              "  </thead>\n",
              "  <tbody>\n",
              "    <tr>\n",
              "      <th>0</th>\n",
              "      <td>1</td>\n",
              "      <td>1193</td>\n",
              "      <td>5</td>\n",
              "      <td>978300760</td>\n",
              "    </tr>\n",
              "    <tr>\n",
              "      <th>1</th>\n",
              "      <td>1</td>\n",
              "      <td>661</td>\n",
              "      <td>3</td>\n",
              "      <td>978302109</td>\n",
              "    </tr>\n",
              "    <tr>\n",
              "      <th>2</th>\n",
              "      <td>1</td>\n",
              "      <td>914</td>\n",
              "      <td>3</td>\n",
              "      <td>978301968</td>\n",
              "    </tr>\n",
              "  </tbody>\n",
              "</table>\n",
              "</div>\n",
              "      <button class=\"colab-df-convert\" onclick=\"convertToInteractive('df-23a25d9a-0d50-4eac-b2ed-8b4002b10b50')\"\n",
              "              title=\"Convert this dataframe to an interactive table.\"\n",
              "              style=\"display:none;\">\n",
              "        \n",
              "  <svg xmlns=\"http://www.w3.org/2000/svg\" height=\"24px\"viewBox=\"0 0 24 24\"\n",
              "       width=\"24px\">\n",
              "    <path d=\"M0 0h24v24H0V0z\" fill=\"none\"/>\n",
              "    <path d=\"M18.56 5.44l.94 2.06.94-2.06 2.06-.94-2.06-.94-.94-2.06-.94 2.06-2.06.94zm-11 1L8.5 8.5l.94-2.06 2.06-.94-2.06-.94L8.5 2.5l-.94 2.06-2.06.94zm10 10l.94 2.06.94-2.06 2.06-.94-2.06-.94-.94-2.06-.94 2.06-2.06.94z\"/><path d=\"M17.41 7.96l-1.37-1.37c-.4-.4-.92-.59-1.43-.59-.52 0-1.04.2-1.43.59L10.3 9.45l-7.72 7.72c-.78.78-.78 2.05 0 2.83L4 21.41c.39.39.9.59 1.41.59.51 0 1.02-.2 1.41-.59l7.78-7.78 2.81-2.81c.8-.78.8-2.07 0-2.86zM5.41 20L4 18.59l7.72-7.72 1.47 1.35L5.41 20z\"/>\n",
              "  </svg>\n",
              "      </button>\n",
              "      \n",
              "  <style>\n",
              "    .colab-df-container {\n",
              "      display:flex;\n",
              "      flex-wrap:wrap;\n",
              "      gap: 12px;\n",
              "    }\n",
              "\n",
              "    .colab-df-convert {\n",
              "      background-color: #E8F0FE;\n",
              "      border: none;\n",
              "      border-radius: 50%;\n",
              "      cursor: pointer;\n",
              "      display: none;\n",
              "      fill: #1967D2;\n",
              "      height: 32px;\n",
              "      padding: 0 0 0 0;\n",
              "      width: 32px;\n",
              "    }\n",
              "\n",
              "    .colab-df-convert:hover {\n",
              "      background-color: #E2EBFA;\n",
              "      box-shadow: 0px 1px 2px rgba(60, 64, 67, 0.3), 0px 1px 3px 1px rgba(60, 64, 67, 0.15);\n",
              "      fill: #174EA6;\n",
              "    }\n",
              "\n",
              "    [theme=dark] .colab-df-convert {\n",
              "      background-color: #3B4455;\n",
              "      fill: #D2E3FC;\n",
              "    }\n",
              "\n",
              "    [theme=dark] .colab-df-convert:hover {\n",
              "      background-color: #434B5C;\n",
              "      box-shadow: 0px 1px 3px 1px rgba(0, 0, 0, 0.15);\n",
              "      filter: drop-shadow(0px 1px 2px rgba(0, 0, 0, 0.3));\n",
              "      fill: #FFFFFF;\n",
              "    }\n",
              "  </style>\n",
              "\n",
              "      <script>\n",
              "        const buttonEl =\n",
              "          document.querySelector('#df-23a25d9a-0d50-4eac-b2ed-8b4002b10b50 button.colab-df-convert');\n",
              "        buttonEl.style.display =\n",
              "          google.colab.kernel.accessAllowed ? 'block' : 'none';\n",
              "\n",
              "        async function convertToInteractive(key) {\n",
              "          const element = document.querySelector('#df-23a25d9a-0d50-4eac-b2ed-8b4002b10b50');\n",
              "          const dataTable =\n",
              "            await google.colab.kernel.invokeFunction('convertToInteractive',\n",
              "                                                     [key], {});\n",
              "          if (!dataTable) return;\n",
              "\n",
              "          const docLinkHtml = 'Like what you see? Visit the ' +\n",
              "            '<a target=\"_blank\" href=https://colab.research.google.com/notebooks/data_table.ipynb>data table notebook</a>'\n",
              "            + ' to learn more about interactive tables.';\n",
              "          element.innerHTML = '';\n",
              "          dataTable['output_type'] = 'display_data';\n",
              "          await google.colab.output.renderOutput(dataTable, element);\n",
              "          const docLink = document.createElement('div');\n",
              "          docLink.innerHTML = docLinkHtml;\n",
              "          element.appendChild(docLink);\n",
              "        }\n",
              "      </script>\n",
              "    </div>\n",
              "  </div>\n",
              "  "
            ],
            "text/plain": [
              "   0     1  2          3\n",
              "0  1  1193  5  978300760\n",
              "1  1   661  3  978302109\n",
              "2  1   914  3  978301968"
            ]
          },
          "metadata": {},
          "execution_count": 8
        }
      ]
    },
    {
      "cell_type": "code",
      "source": [
        "# Preparar el conjunto de entrenamiento y de testing\n",
        "training_set = pd.read_csv('https://raw.githubusercontent.com/joanby/deeplearning-az/master/datasets/Part%205%20-%20Boltzmann%20Machines%20(BM)/ml-100k/u1.base', sep = '\\t')\n",
        "training_set = np.array(training_set, dtype = 'int')"
      ],
      "metadata": {
        "id": "z0sFjtM8r45U"
      },
      "execution_count": 9,
      "outputs": []
    },
    {
      "cell_type": "code",
      "source": [
        "test_set = pd.read_csv('https://raw.githubusercontent.com/joanby/deeplearning-az/master/datasets/Part%205%20-%20Boltzmann%20Machines%20(BM)/ml-100k/u1.test', sep = '\\t')\n",
        "test_set = np.array(test_set, dtype = 'int')"
      ],
      "metadata": {
        "id": "l0pqov9tuJ5_"
      },
      "execution_count": 10,
      "outputs": []
    },
    {
      "cell_type": "code",
      "source": [
        "# Obtener el numero de usuarios y de peliculas\n",
        "number_users = max(max(training_set[:, 0]), max(test_set[:, 0]))\n",
        "number_movies = max(max(training_set[:, 1]), max(test_set[:, 1]))\n",
        "\n",
        "print('El numero de usuarios es {}'.format(number_users))\n",
        "print('El numero de peliculas es {}'.format(number_movies))"
      ],
      "metadata": {
        "colab": {
          "base_uri": "https://localhost:8080/"
        },
        "id": "th-lbNPHl2Qw",
        "outputId": "34729949-a33b-453d-ecb4-5d3f1fb917dc"
      },
      "execution_count": 11,
      "outputs": [
        {
          "output_type": "stream",
          "name": "stdout",
          "text": [
            "El numero de usuarios es 943\n",
            "El numero de peliculas es 1682\n"
          ]
        }
      ]
    },
    {
      "cell_type": "code",
      "source": [
        "# Convertir los datos en un array X[u, i] con usuarios u en fila y peliculas i en columna\n",
        "\n",
        "def convert(data):\n",
        "  new_data = []\n",
        "  for id_user in range(1, number_users + 1):\n",
        "    id_movies = data[:,  1 ][data[:, 0] == id_user ]\n",
        "    id_ratings = data[:,  2 ][data[:, 0] == id_user ]\n",
        "    ratings = np.zeros(number_movies)\n",
        "    ratings[id_movies - 1] = id_ratings \n",
        "    new_data.append(list(ratings))\n",
        "  return new_data\n",
        "\n",
        "training_set = convert(training_set)\n",
        "test_set = convert(test_set)"
      ],
      "metadata": {
        "id": "vx8LuBbKnegE"
      },
      "execution_count": 12,
      "outputs": []
    },
    {
      "cell_type": "code",
      "source": [
        "# Convertir los datos a tensores de Torch\n",
        "\n",
        "training_set = torch.FloatTensor(training_set)\n",
        "test_set = torch.FloatTensor(test_set)"
      ],
      "metadata": {
        "id": "N3AjVK4IpvxC"
      },
      "execution_count": 13,
      "outputs": []
    },
    {
      "cell_type": "code",
      "source": [
        "training_set"
      ],
      "metadata": {
        "colab": {
          "base_uri": "https://localhost:8080/"
        },
        "id": "0lGsepdOqpRK",
        "outputId": "780a1dce-e4b1-4dcc-a743-55a107814a5f"
      },
      "execution_count": 14,
      "outputs": [
        {
          "output_type": "execute_result",
          "data": {
            "text/plain": [
              "tensor([[0., 3., 4.,  ..., 0., 0., 0.],\n",
              "        [4., 0., 0.,  ..., 0., 0., 0.],\n",
              "        [0., 0., 0.,  ..., 0., 0., 0.],\n",
              "        ...,\n",
              "        [5., 0., 0.,  ..., 0., 0., 0.],\n",
              "        [0., 0., 0.,  ..., 0., 0., 0.],\n",
              "        [0., 5., 0.,  ..., 0., 0., 0.]])"
            ]
          },
          "metadata": {},
          "execution_count": 14
        }
      ]
    },
    {
      "cell_type": "code",
      "source": [
        "test_set"
      ],
      "metadata": {
        "colab": {
          "base_uri": "https://localhost:8080/"
        },
        "id": "Xg4B8xXNqwtk",
        "outputId": "2ea1703a-848f-4d3b-ed09-313a5ad6208a"
      },
      "execution_count": 15,
      "outputs": [
        {
          "output_type": "execute_result",
          "data": {
            "text/plain": [
              "tensor([[0., 0., 0.,  ..., 0., 0., 0.],\n",
              "        [0., 0., 0.,  ..., 0., 0., 0.],\n",
              "        [0., 0., 0.,  ..., 0., 0., 0.],\n",
              "        ...,\n",
              "        [0., 0., 0.,  ..., 0., 0., 0.],\n",
              "        [0., 0., 0.,  ..., 0., 0., 0.],\n",
              "        [0., 0., 0.,  ..., 0., 0., 0.]])"
            ]
          },
          "metadata": {},
          "execution_count": 15
        }
      ]
    },
    {
      "cell_type": "markdown",
      "source": [
        "### Crear la arquitectura de la Red Neuronal"
      ],
      "metadata": {
        "id": "bwVnFcVRPNWL"
      }
    },
    {
      "cell_type": "code",
      "source": [
        "class SAE(nn.Module):\n",
        "  def __init__(self, ):\n",
        "    super(SAE, self).__init__()\n",
        "    self.fc1 = nn.Linear(number_movies, 20)\n",
        "    self.fc2 = nn.Linear(20, 10)\n",
        "    self.fc3 = nn.Linear(10, 20)\n",
        "    self.fc4 = nn.Linear(20, number_movies)\n",
        "    self.activation = nn.Sigmoid()\n",
        "  \n",
        "  def forward(self, x):\n",
        "    x = self.activation(self.fc1(x))\n",
        "    x = self.activation(self.fc2(x))\n",
        "    x = self.activation(self.fc3(x))\n",
        "    x = self.fc4(x)\n",
        "    return x"
      ],
      "metadata": {
        "id": "jZQSMtWLPSwl"
      },
      "execution_count": 22,
      "outputs": []
    },
    {
      "cell_type": "code",
      "source": [
        "sae = SAE()\n",
        "criterion = nn.MSELoss()\n",
        "optimizer = optim.RMSprop(sae.parameters(), lr = 0.01, weight_decay = 0.5)"
      ],
      "metadata": {
        "id": "mxB6yyr0Rt8A"
      },
      "execution_count": 23,
      "outputs": []
    },
    {
      "cell_type": "markdown",
      "source": [
        "### Entrenar el SAE"
      ],
      "metadata": {
        "id": "RdhSITLFTEr8"
      }
    },
    {
      "cell_type": "code",
      "source": [
        "nb_epoch = 200\n",
        "for epoch in range(1, nb_epoch):\n",
        "  train_loss = 0\n",
        "  s = 0.\n",
        "  for id_user in range(number_users):\n",
        "    input = Variable(training_set[id_user]).unsqueeze(0)\n",
        "    target = input.clone()\n",
        "    if torch.sum(target.data > 0) > 0:\n",
        "      output = sae.forward(input)\n",
        "      target.require_grad = False\n",
        "      output[target == 0] = 0\n",
        "      loss = criterion(output, target)\n",
        "      mean_corrector = number_movies/float(torch.sum(target.data > 0 ) + 1e-10)\n",
        "      loss.backward()\n",
        "      train_loss += np.sqrt(loss.data * mean_corrector)\n",
        "      s += 1\n",
        "      optimizer.step()\n",
        "  print('Epoch: ' + str(epoch) + ', loss: ' + str(train_loss / s))\n"
      ],
      "metadata": {
        "colab": {
          "base_uri": "https://localhost:8080/"
        },
        "id": "5Fvsk56FTGm9",
        "outputId": "88e328fb-6f63-429a-cbe3-846c0a24a48c"
      },
      "execution_count": 24,
      "outputs": [
        {
          "output_type": "stream",
          "name": "stdout",
          "text": [
            "Epoch: 1, loss: tensor(1.7709)\n",
            "Epoch: 2, loss: tensor(1.0966)\n",
            "Epoch: 3, loss: tensor(1.0534)\n",
            "Epoch: 4, loss: tensor(1.0384)\n",
            "Epoch: 5, loss: tensor(1.0307)\n",
            "Epoch: 6, loss: tensor(1.0266)\n",
            "Epoch: 7, loss: tensor(1.0239)\n",
            "Epoch: 8, loss: tensor(1.0218)\n",
            "Epoch: 9, loss: tensor(1.0208)\n",
            "Epoch: 10, loss: tensor(1.0193)\n",
            "Epoch: 11, loss: tensor(1.0189)\n",
            "Epoch: 12, loss: tensor(1.0183)\n",
            "Epoch: 13, loss: tensor(1.0180)\n",
            "Epoch: 14, loss: tensor(1.0175)\n",
            "Epoch: 15, loss: tensor(1.0173)\n",
            "Epoch: 16, loss: tensor(1.0169)\n",
            "Epoch: 17, loss: tensor(1.0168)\n",
            "Epoch: 18, loss: tensor(1.0163)\n",
            "Epoch: 19, loss: tensor(1.0164)\n",
            "Epoch: 20, loss: tensor(1.0160)\n",
            "Epoch: 21, loss: tensor(1.0161)\n",
            "Epoch: 22, loss: tensor(1.0158)\n",
            "Epoch: 23, loss: tensor(1.0158)\n",
            "Epoch: 24, loss: tensor(1.0157)\n",
            "Epoch: 25, loss: tensor(1.0155)\n",
            "Epoch: 26, loss: tensor(1.0154)\n",
            "Epoch: 27, loss: tensor(1.0153)\n",
            "Epoch: 28, loss: tensor(1.0150)\n",
            "Epoch: 29, loss: tensor(1.0125)\n",
            "Epoch: 30, loss: tensor(1.0118)\n",
            "Epoch: 31, loss: tensor(1.0095)\n",
            "Epoch: 32, loss: tensor(1.0099)\n",
            "Epoch: 33, loss: tensor(1.0057)\n",
            "Epoch: 34, loss: tensor(1.0042)\n",
            "Epoch: 35, loss: tensor(1.0026)\n",
            "Epoch: 36, loss: tensor(1.0001)\n",
            "Epoch: 37, loss: tensor(0.9963)\n",
            "Epoch: 38, loss: tensor(0.9950)\n",
            "Epoch: 39, loss: tensor(0.9928)\n",
            "Epoch: 40, loss: tensor(0.9921)\n",
            "Epoch: 41, loss: tensor(0.9890)\n",
            "Epoch: 42, loss: tensor(0.9849)\n",
            "Epoch: 43, loss: tensor(0.9857)\n",
            "Epoch: 44, loss: tensor(0.9877)\n",
            "Epoch: 45, loss: tensor(0.9837)\n",
            "Epoch: 46, loss: tensor(0.9798)\n",
            "Epoch: 47, loss: tensor(0.9813)\n",
            "Epoch: 48, loss: tensor(0.9798)\n",
            "Epoch: 49, loss: tensor(0.9759)\n",
            "Epoch: 50, loss: tensor(0.9790)\n",
            "Epoch: 51, loss: tensor(0.9747)\n",
            "Epoch: 52, loss: tensor(0.9842)\n",
            "Epoch: 53, loss: tensor(0.9775)\n",
            "Epoch: 54, loss: tensor(0.9775)\n",
            "Epoch: 55, loss: tensor(0.9738)\n",
            "Epoch: 56, loss: tensor(0.9777)\n",
            "Epoch: 57, loss: tensor(0.9768)\n",
            "Epoch: 58, loss: tensor(0.9751)\n",
            "Epoch: 59, loss: tensor(0.9677)\n",
            "Epoch: 60, loss: tensor(0.9732)\n",
            "Epoch: 61, loss: tensor(0.9640)\n",
            "Epoch: 62, loss: tensor(0.9637)\n",
            "Epoch: 63, loss: tensor(0.9585)\n",
            "Epoch: 64, loss: tensor(0.9588)\n",
            "Epoch: 65, loss: tensor(0.9569)\n",
            "Epoch: 66, loss: tensor(0.9574)\n",
            "Epoch: 67, loss: tensor(0.9618)\n",
            "Epoch: 68, loss: tensor(0.9649)\n",
            "Epoch: 69, loss: tensor(0.9705)\n",
            "Epoch: 70, loss: tensor(0.9709)\n",
            "Epoch: 71, loss: tensor(0.9642)\n",
            "Epoch: 72, loss: tensor(0.9623)\n",
            "Epoch: 73, loss: tensor(0.9668)\n",
            "Epoch: 74, loss: tensor(0.9650)\n",
            "Epoch: 75, loss: tensor(0.9592)\n",
            "Epoch: 76, loss: tensor(0.9611)\n",
            "Epoch: 77, loss: tensor(0.9600)\n",
            "Epoch: 78, loss: tensor(0.9651)\n",
            "Epoch: 79, loss: tensor(0.9588)\n",
            "Epoch: 80, loss: tensor(0.9586)\n",
            "Epoch: 81, loss: tensor(0.9580)\n",
            "Epoch: 82, loss: tensor(0.9581)\n",
            "Epoch: 83, loss: tensor(0.9556)\n",
            "Epoch: 84, loss: tensor(0.9517)\n",
            "Epoch: 85, loss: tensor(0.9518)\n",
            "Epoch: 86, loss: tensor(0.9515)\n",
            "Epoch: 87, loss: tensor(0.9516)\n",
            "Epoch: 88, loss: tensor(0.9561)\n",
            "Epoch: 89, loss: tensor(0.9501)\n",
            "Epoch: 90, loss: tensor(0.9554)\n",
            "Epoch: 91, loss: tensor(0.9554)\n",
            "Epoch: 92, loss: tensor(0.9533)\n",
            "Epoch: 93, loss: tensor(0.9497)\n",
            "Epoch: 94, loss: tensor(0.9511)\n",
            "Epoch: 95, loss: tensor(0.9506)\n",
            "Epoch: 96, loss: tensor(0.9503)\n",
            "Epoch: 97, loss: tensor(0.9510)\n",
            "Epoch: 98, loss: tensor(0.9538)\n",
            "Epoch: 99, loss: tensor(0.9515)\n",
            "Epoch: 100, loss: tensor(0.9512)\n",
            "Epoch: 101, loss: tensor(0.9482)\n",
            "Epoch: 102, loss: tensor(0.9471)\n",
            "Epoch: 103, loss: tensor(0.9448)\n",
            "Epoch: 104, loss: tensor(0.9464)\n",
            "Epoch: 105, loss: tensor(0.9456)\n",
            "Epoch: 106, loss: tensor(0.9447)\n",
            "Epoch: 107, loss: tensor(0.9450)\n",
            "Epoch: 108, loss: tensor(0.9439)\n",
            "Epoch: 109, loss: tensor(0.9449)\n",
            "Epoch: 110, loss: tensor(0.9532)\n",
            "Epoch: 111, loss: tensor(0.9493)\n",
            "Epoch: 112, loss: tensor(0.9481)\n",
            "Epoch: 113, loss: tensor(0.9455)\n",
            "Epoch: 114, loss: tensor(0.9457)\n",
            "Epoch: 115, loss: tensor(0.9443)\n",
            "Epoch: 116, loss: tensor(0.9453)\n",
            "Epoch: 117, loss: tensor(0.9419)\n",
            "Epoch: 118, loss: tensor(0.9422)\n",
            "Epoch: 119, loss: tensor(0.9409)\n",
            "Epoch: 120, loss: tensor(0.9437)\n",
            "Epoch: 121, loss: tensor(0.9426)\n",
            "Epoch: 122, loss: tensor(0.9420)\n",
            "Epoch: 123, loss: tensor(0.9396)\n",
            "Epoch: 124, loss: tensor(0.9403)\n",
            "Epoch: 125, loss: tensor(0.9377)\n",
            "Epoch: 126, loss: tensor(0.9381)\n",
            "Epoch: 127, loss: tensor(0.9358)\n",
            "Epoch: 128, loss: tensor(0.9369)\n",
            "Epoch: 129, loss: tensor(0.9349)\n",
            "Epoch: 130, loss: tensor(0.9362)\n",
            "Epoch: 131, loss: tensor(0.9349)\n",
            "Epoch: 132, loss: tensor(0.9354)\n",
            "Epoch: 133, loss: tensor(0.9343)\n",
            "Epoch: 134, loss: tensor(0.9332)\n",
            "Epoch: 135, loss: tensor(0.9330)\n",
            "Epoch: 136, loss: tensor(0.9332)\n",
            "Epoch: 137, loss: tensor(0.9318)\n",
            "Epoch: 138, loss: tensor(0.9326)\n",
            "Epoch: 139, loss: tensor(0.9315)\n",
            "Epoch: 140, loss: tensor(0.9320)\n",
            "Epoch: 141, loss: tensor(0.9294)\n",
            "Epoch: 142, loss: tensor(0.9347)\n",
            "Epoch: 143, loss: tensor(0.9382)\n",
            "Epoch: 144, loss: tensor(0.9370)\n",
            "Epoch: 145, loss: tensor(0.9347)\n",
            "Epoch: 146, loss: tensor(0.9341)\n",
            "Epoch: 147, loss: tensor(0.9340)\n",
            "Epoch: 148, loss: tensor(0.9334)\n",
            "Epoch: 149, loss: tensor(0.9319)\n",
            "Epoch: 150, loss: tensor(0.9318)\n",
            "Epoch: 151, loss: tensor(0.9313)\n",
            "Epoch: 152, loss: tensor(0.9308)\n",
            "Epoch: 153, loss: tensor(0.9295)\n",
            "Epoch: 154, loss: tensor(0.9305)\n",
            "Epoch: 155, loss: tensor(0.9295)\n",
            "Epoch: 156, loss: tensor(0.9289)\n",
            "Epoch: 157, loss: tensor(0.9279)\n",
            "Epoch: 158, loss: tensor(0.9285)\n",
            "Epoch: 159, loss: tensor(0.9276)\n",
            "Epoch: 160, loss: tensor(0.9277)\n",
            "Epoch: 161, loss: tensor(0.9267)\n",
            "Epoch: 162, loss: tensor(0.9266)\n",
            "Epoch: 163, loss: tensor(0.9258)\n",
            "Epoch: 164, loss: tensor(0.9259)\n",
            "Epoch: 165, loss: tensor(0.9255)\n",
            "Epoch: 166, loss: tensor(0.9253)\n",
            "Epoch: 167, loss: tensor(0.9250)\n",
            "Epoch: 168, loss: tensor(0.9252)\n",
            "Epoch: 169, loss: tensor(0.9243)\n",
            "Epoch: 170, loss: tensor(0.9250)\n",
            "Epoch: 171, loss: tensor(0.9242)\n",
            "Epoch: 172, loss: tensor(0.9256)\n",
            "Epoch: 173, loss: tensor(0.9289)\n",
            "Epoch: 174, loss: tensor(0.9269)\n",
            "Epoch: 175, loss: tensor(0.9237)\n",
            "Epoch: 176, loss: tensor(0.9245)\n",
            "Epoch: 177, loss: tensor(0.9233)\n",
            "Epoch: 178, loss: tensor(0.9245)\n",
            "Epoch: 179, loss: tensor(0.9237)\n",
            "Epoch: 180, loss: tensor(0.9272)\n",
            "Epoch: 181, loss: tensor(0.9222)\n",
            "Epoch: 182, loss: tensor(0.9219)\n",
            "Epoch: 183, loss: tensor(0.9217)\n",
            "Epoch: 184, loss: tensor(0.9219)\n",
            "Epoch: 185, loss: tensor(0.9241)\n",
            "Epoch: 186, loss: tensor(0.9247)\n",
            "Epoch: 187, loss: tensor(0.9226)\n",
            "Epoch: 188, loss: tensor(0.9203)\n",
            "Epoch: 189, loss: tensor(0.9194)\n",
            "Epoch: 190, loss: tensor(0.9192)\n",
            "Epoch: 191, loss: tensor(0.9185)\n",
            "Epoch: 192, loss: tensor(0.9191)\n",
            "Epoch: 193, loss: tensor(0.9181)\n",
            "Epoch: 194, loss: tensor(0.9182)\n",
            "Epoch: 195, loss: tensor(0.9173)\n",
            "Epoch: 196, loss: tensor(0.9180)\n",
            "Epoch: 197, loss: tensor(0.9167)\n",
            "Epoch: 198, loss: tensor(0.9175)\n",
            "Epoch: 199, loss: tensor(0.9162)\n"
          ]
        }
      ]
    },
    {
      "cell_type": "markdown",
      "source": [
        "\n",
        "### Evaluar en el conjunto de test"
      ],
      "metadata": {
        "id": "uIxpvFl-VqOB"
      }
    },
    {
      "cell_type": "code",
      "source": [
        "nb_epoch = 200\n",
        "\n",
        "test_loss = 0\n",
        "s = 0.\n",
        "for id_user in range(number_users):\n",
        "  input = Variable(training_set[id_user]).unsqueeze(0)\n",
        "  target = Variable(test_set[id_user]).unsqueeze(0)\n",
        "  if torch.sum(target.data > 0) > 0:\n",
        "    output = sae.forward(input)\n",
        "    target.require_grad = False\n",
        "    output[target == 0] = 0\n",
        "    loss = criterion(output, target)\n",
        "    mean_corrector = number_movies/float(torch.sum(target.data > 0 ) + 1e-10)\n",
        "    test_loss += np.sqrt(loss.data * mean_corrector)\n",
        "    s += 1\n",
        "print('Test loss: ' + str(test_loss / s))"
      ],
      "metadata": {
        "colab": {
          "base_uri": "https://localhost:8080/"
        },
        "id": "IK-dZlWrVkf-",
        "outputId": "d7edea0e-d97c-4beb-e5d8-ae0dd8101292"
      },
      "execution_count": 28,
      "outputs": [
        {
          "output_type": "stream",
          "name": "stdout",
          "text": [
            "Test loss: tensor(0.9512)\n"
          ]
        }
      ]
    }
  ]
}