{
  "nbformat": 4,
  "nbformat_minor": 0,
  "metadata": {
    "colab": {
      "name": "Q-Learning.ipynb",
      "provenance": [],
      "collapsed_sections": []
    },
    "kernelspec": {
      "name": "python3",
      "display_name": "Python 3"
    },
    "language_info": {
      "name": "python"
    }
  },
  "cells": [
    {
      "cell_type": "markdown",
      "source": [
        "# Optimización de los flujos de trabajo en un almacen con Q-Learning"
      ],
      "metadata": {
        "id": "rmc9Is51Byv3"
      }
    },
    {
      "cell_type": "markdown",
      "source": [
        "![2021-12-27 (3).png](data:image/png;base64,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)"
      ],
      "metadata": {
        "id": "tFS4O3F-JEqN"
      }
    },
    {
      "cell_type": "code",
      "execution_count": 1,
      "metadata": {
        "id": "4OMFOUVkBQrU"
      },
      "outputs": [],
      "source": [
        "# Importación de las librerias\n",
        "import numpy as np\n"
      ]
    },
    {
      "cell_type": "code",
      "source": [
        "# Configuracion de los parametros gamma y alpha para el algortimo\n",
        "gamma = 0.75\n",
        "alpha = 0.9"
      ],
      "metadata": {
        "id": "fSyc1B2VCyVi"
      },
      "execution_count": 2,
      "outputs": []
    },
    {
      "cell_type": "markdown",
      "source": [
        "### PARTE 1 - DEFINICION DEL ENTORNO"
      ],
      "metadata": {
        "id": "u1LS_IkiFlXg"
      }
    },
    {
      "cell_type": "code",
      "source": [
        "# Definición de los estados\n",
        "location_to_state = {\n",
        "    'A': 0,\n",
        "    'B': 1,\n",
        "    'C': 2,\n",
        "    'D': 3,\n",
        "    'E': 4,\n",
        "    'F': 5,\n",
        "    'G': 6,\n",
        "    'H': 7,\n",
        "    'I': 8,\n",
        "    'J': 9,\n",
        "    'K': 10,\n",
        "    'L': 11\n",
        "}"
      ],
      "metadata": {
        "id": "5Cj_N9UpF3U-"
      },
      "execution_count": 3,
      "outputs": []
    },
    {
      "cell_type": "code",
      "source": [
        "# Definicion de las acciones\n",
        "actions = [i for i in range(12)]"
      ],
      "metadata": {
        "id": "-mQk2s-uGbn_"
      },
      "execution_count": 4,
      "outputs": []
    },
    {
      "cell_type": "code",
      "source": [
        "# Definición de las recompensas\n",
        "# Columnas     A, B, C, D, E, F, G, H, I, J, K, L\n",
        "R = np.array([\n",
        "              [0, 1, 0, 0, 0, 0, 0, 0, 0, 0, 0, 0], # Desde Ase puede ir a B\n",
        "              [1, 0, 1, 0, 0, 1, 0, 0, 0, 0, 0, 0], # Desde B se puede ir a A, C y F\n",
        "              [0, 1, 0, 0, 0, 0, 1, 0, 0, 0, 0, 0],\n",
        "              [0, 0, 0, 0, 0, 0, 0, 1, 0, 0, 0, 0],\n",
        "              [0, 0, 0, 0, 0, 0, 0, 0, 1, 0, 0, 0],\n",
        "              [0, 1, 0, 0, 0, 0, 0, 0, 0, 1, 0, 0],\n",
        "              [0, 0, 1, 0, 0, 0, 1, 1, 0, 0, 0, 0],\n",
        "              [0, 0, 0, 1, 0, 0, 1, 0, 0, 0, 0, 1],\n",
        "              [0, 0, 0, 0, 1, 0, 0, 0, 0, 1, 0, 0],\n",
        "              [0, 0, 0, 0, 0, 1, 0, 0, 1, 0, 1, 0],\n",
        "              [0, 0, 0, 0, 0, 0, 0, 0, 0, 1, 0, 1],\n",
        "              [0, 0, 0, 0, 0, 0, 0, 1, 0, 0, 1, 0]\n",
        "])"
      ],
      "metadata": {
        "id": "OwpLW9c9Glxv"
      },
      "execution_count": 5,
      "outputs": []
    },
    {
      "cell_type": "markdown",
      "source": [
        "### PARTE 2 - CONSTRUCCION DE LA SOLUCION DE LA IA CON Q-LEARNING"
      ],
      "metadata": {
        "id": "XaY4CeRZFqEO"
      }
    },
    {
      "cell_type": "code",
      "source": [
        "# Transformación inversa de estados a ubicaciones\n",
        "state_to_location = {state: location for location, state in location_to_state.items()}\n",
        "state_to_location"
      ],
      "metadata": {
        "colab": {
          "base_uri": "https://localhost:8080/"
        },
        "id": "TYXXgxgHOazV",
        "outputId": "0071c92e-4ab0-4f31-f951-db3a1bb0b39e"
      },
      "execution_count": 6,
      "outputs": [
        {
          "output_type": "execute_result",
          "data": {
            "text/plain": [
              "{0: 'A',\n",
              " 1: 'B',\n",
              " 2: 'C',\n",
              " 3: 'D',\n",
              " 4: 'E',\n",
              " 5: 'F',\n",
              " 6: 'G',\n",
              " 7: 'H',\n",
              " 8: 'I',\n",
              " 9: 'J',\n",
              " 10: 'K',\n",
              " 11: 'L'}"
            ]
          },
          "metadata": {},
          "execution_count": 6
        }
      ]
    },
    {
      "cell_type": "code",
      "source": [
        "# Crear la función final que nos devuelve la ruta óptima\n",
        "def route(starting_location, ending_location):\n",
        "  R_new = np.copy(R)\n",
        "  ending_state = location_to_state[ending_location]\n",
        "  R_new[ending_state, ending_state] = 1000\n",
        "\n",
        "  # Inicialización de los valores Q\n",
        "  Q = np.array(np.zeros([12, 12])) # Q_0(s,a) = 0\n",
        "\n",
        "  # Implementación del proceso de Q-Learning\n",
        "  for i in range(1000):\n",
        "    current_state = np.random.randint(0, 12)\n",
        "    playable_actions = [] # Queremos las columnas es distinta de cero para la fila actual  (current_state)\n",
        "    for j in range(12):\n",
        "      if R_new[current_state, j] > 0:\n",
        "        playable_actions.append(j)\n",
        "    next_state = np.random.choice(playable_actions) # La accion lleva al siguiente estado\n",
        "    TD = R_new[current_state, next_state] + gamma * Q[next_state, np.argmax(Q[next_state, ])] - Q[current_state, next_state] # Difrencia temporal\n",
        "    Q[current_state, next_state] += alpha * TD\n",
        "\n",
        "  route = [starting_location]\n",
        "  next_location = starting_location\n",
        "  while( next_location != ending_location ):\n",
        "    starting_state = location_to_state[starting_location]\n",
        "    next_state = np.argmax(Q[starting_state, ])\n",
        "    next_location = state_to_location[next_state]\n",
        "    route.append(next_location)\n",
        "    starting_location = next_location\n",
        "  return route\n"
      ],
      "metadata": {
        "id": "Vi5MFyeANbic"
      },
      "execution_count": 7,
      "outputs": []
    },
    {
      "cell_type": "markdown",
      "source": [
        "### PARTE 3 - PONER EL MODELO EN PRODUCCIÓN"
      ],
      "metadata": {
        "id": "76T7fT9bU0GT"
      }
    },
    {
      "cell_type": "code",
      "source": [
        "# Imprimir la ruta final\n",
        "print('Ruta Elegida: ')\n",
        "print(route('B', 'D') )# Ubicacion inicial E y queremos que llegue a G"
      ],
      "metadata": {
        "colab": {
          "base_uri": "https://localhost:8080/"
        },
        "id": "KPzr6dp1QEOn",
        "outputId": "313408cc-492a-4dcb-a9c9-975f52afe8f1"
      },
      "execution_count": 10,
      "outputs": [
        {
          "output_type": "stream",
          "name": "stdout",
          "text": [
            "Ruta Elegida: \n",
            "['B', 'C', 'G', 'H', 'D']\n"
          ]
        }
      ]
    },
    {
      "cell_type": "code",
      "source": [
        "def best_route(starting_location, intermediary_location, ending_location):\n",
        "    return route(starting_location, intermediary_location) + route(intermediary_location, ending_location)[1:]\n",
        "\n",
        "# Imprimir la ruta final\n",
        "print(\"Ruta Elegida:\")\n",
        "print(best_route('E', 'B', 'G'))"
      ],
      "metadata": {
        "colab": {
          "base_uri": "https://localhost:8080/"
        },
        "id": "7pSSYJQEWWYo",
        "outputId": "9d1ef6d4-50c2-4e97-fd1d-f8e478036168"
      },
      "execution_count": 11,
      "outputs": [
        {
          "output_type": "stream",
          "name": "stdout",
          "text": [
            "Ruta Elegida:\n",
            "['E', 'I', 'J', 'F', 'B', 'C', 'G']\n"
          ]
        }
      ]
    }
  ]
}