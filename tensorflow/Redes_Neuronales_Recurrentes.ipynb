{
  "nbformat": 4,
  "nbformat_minor": 0,
  "metadata": {
    "colab": {
      "name": "Redes Neuronales Recurrentes.ipynb",
      "provenance": []
    },
    "kernelspec": {
      "name": "python3",
      "display_name": "Python 3"
    },
    "language_info": {
      "name": "python"
    },
    "accelerator": "GPU"
  },
  "cells": [
    {
      "cell_type": "markdown",
      "source": [
        "# Instalar las dependencias y la configuracion del notebook en GPU"
      ],
      "metadata": {
        "id": "zEayzBCzpM03"
      }
    },
    {
      "cell_type": "code",
      "source": [
        "#!pip install tensorflow"
      ],
      "metadata": {
        "id": "8rmncNb6pTVR"
      },
      "execution_count": 1,
      "outputs": []
    },
    {
      "cell_type": "markdown",
      "source": [
        "# Importar laslibrerias necesarias"
      ],
      "metadata": {
        "id": "qFY1yGVjpfHP"
      }
    },
    {
      "cell_type": "code",
      "source": [
        "import numpy as np\n",
        "import tensorflow as tf\n",
        "\n",
        "from tensorflow.keras.datasets import imdb"
      ],
      "metadata": {
        "id": "tFTUuhM2piPh"
      },
      "execution_count": 2,
      "outputs": []
    },
    {
      "cell_type": "code",
      "source": [
        "tf.__version__"
      ],
      "metadata": {
        "colab": {
          "base_uri": "https://localhost:8080/",
          "height": 38
        },
        "id": "qFnsSge2pqew",
        "outputId": "58c9584a-e6e2-42ba-f340-d8b375aacae1"
      },
      "execution_count": 3,
      "outputs": [
        {
          "output_type": "execute_result",
          "data": {
            "application/vnd.google.colaboratory.intrinsic+json": {
              "type": "string"
            },
            "text/plain": [
              "'2.7.0'"
            ]
          },
          "metadata": {},
          "execution_count": 3
        }
      ]
    },
    {
      "cell_type": "markdown",
      "source": [
        "# Pre Procesado de datos"
      ],
      "metadata": {
        "id": "U6MuwH7CptMr"
      }
    },
    {
      "cell_type": "markdown",
      "source": [
        "### Configurar parametros del dataset"
      ],
      "metadata": {
        "id": "j-oL16Hwpwkd"
      }
    },
    {
      "cell_type": "code",
      "source": [
        "number_of_words = 20000\n",
        "max_len = 100"
      ],
      "metadata": {
        "id": "GhhhZMATp0Le"
      },
      "execution_count": 4,
      "outputs": []
    },
    {
      "cell_type": "markdown",
      "source": [
        "### Carga del dataset de IMDB"
      ],
      "metadata": {
        "id": "GZR27NNiqBMl"
      }
    },
    {
      "cell_type": "code",
      "source": [
        "(X_train, y_train), (X_test, y_test) = imdb.load_data(num_words=number_of_words)"
      ],
      "metadata": {
        "id": "4uz-TEDeqGVK"
      },
      "execution_count": 15,
      "outputs": []
    },
    {
      "cell_type": "markdown",
      "source": [
        "### Contar secuencias de texto de la misma longitud"
      ],
      "metadata": {
        "id": "MZYM9dKLqVMc"
      }
    },
    {
      "cell_type": "code",
      "source": [
        "X_train = tf.keras.preprocessing.sequence.pad_sequences(X_train, maxlen= max_len)\n",
        "X_test = tf.keras.preprocessing.sequence.pad_sequences(X_test, maxlen= max_len)"
      ],
      "metadata": {
        "id": "mpvBn5Pypv0w"
      },
      "execution_count": 6,
      "outputs": []
    },
    {
      "cell_type": "markdown",
      "source": [
        "### Configurar parametros de la capa de Embedding\n"
      ],
      "metadata": {
        "id": "TGSZBaLPrKpd"
      }
    },
    {
      "cell_type": "code",
      "source": [
        "vocab_size = number_of_words\n",
        "vocab_size"
      ],
      "metadata": {
        "colab": {
          "base_uri": "https://localhost:8080/"
        },
        "id": "_WN9hnp9rOr9",
        "outputId": "98fb99d1-3669-48be-f725-c901a43dcf0c"
      },
      "execution_count": 7,
      "outputs": [
        {
          "output_type": "execute_result",
          "data": {
            "text/plain": [
              "20000"
            ]
          },
          "metadata": {},
          "execution_count": 7
        }
      ]
    },
    {
      "cell_type": "code",
      "source": [
        "embed_size = 128"
      ],
      "metadata": {
        "id": "TlVO3YuPs-y1"
      },
      "execution_count": 8,
      "outputs": []
    },
    {
      "cell_type": "markdown",
      "source": [
        "# Construis la Red Neuronal Recurrente"
      ],
      "metadata": {
        "id": "OkhRZZ9yr3QW"
      }
    },
    {
      "cell_type": "code",
      "source": [
        "# Definir el modelo\n",
        "model = tf.keras.Sequential()\n",
        "\n",
        "#Añadir la capa de embedding\n",
        "model.add(tf.keras.layers.Embedding(vocab_size, embed_size, input_shape = (X_train.shape[1],)) )\n",
        "\n",
        "# Añadir la capa de LSTM\n",
        " # unidades 128\n",
        " # funcion de activacion tanh\n",
        "\n",
        "model.add(tf.keras.layers.LSTM(units = 128, activation = 'tanh'))\n",
        "\n",
        "# Añadir la capa totalmente conectada de salida\n",
        "  # unidades 1\n",
        "  # funcion de activacion: sigmoid\n",
        "model.add(tf.keras.layers.Dense(units = 1, activation= 'sigmoid'))"
      ],
      "metadata": {
        "id": "0E0m4ivsr8Ci"
      },
      "execution_count": 9,
      "outputs": []
    },
    {
      "cell_type": "markdown",
      "source": [
        "### Compilar el modelo\n"
      ],
      "metadata": {
        "id": "D2uuZr3XuEle"
      }
    },
    {
      "cell_type": "code",
      "source": [
        "model.compile(optimizer = 'rmsprop', loss = 'binary_crossentropy', metrics = ['accuracy'])"
      ],
      "metadata": {
        "id": "l8b5dbAmuJUy"
      },
      "execution_count": 10,
      "outputs": []
    },
    {
      "cell_type": "code",
      "source": [
        "model.summary()"
      ],
      "metadata": {
        "colab": {
          "base_uri": "https://localhost:8080/"
        },
        "id": "arnh7TzyvLc3",
        "outputId": "f85405c4-7288-49a5-d9f7-7f48705a5da5"
      },
      "execution_count": 11,
      "outputs": [
        {
          "output_type": "stream",
          "name": "stdout",
          "text": [
            "Model: \"sequential\"\n",
            "_________________________________________________________________\n",
            " Layer (type)                Output Shape              Param #   \n",
            "=================================================================\n",
            " embedding (Embedding)       (None, 100, 128)          2560000   \n",
            "                                                                 \n",
            " lstm (LSTM)                 (None, 128)               131584    \n",
            "                                                                 \n",
            " dense (Dense)               (None, 1)                 129       \n",
            "                                                                 \n",
            "=================================================================\n",
            "Total params: 2,691,713\n",
            "Trainable params: 2,691,713\n",
            "Non-trainable params: 0\n",
            "_________________________________________________________________\n"
          ]
        }
      ]
    },
    {
      "cell_type": "markdown",
      "source": [
        "### Entrenar el modelo"
      ],
      "metadata": {
        "id": "A7tgUdQYvt-z"
      }
    },
    {
      "cell_type": "code",
      "source": [
        "model.fit(X_train, y_train, epochs = 10, batch_size = 256)"
      ],
      "metadata": {
        "colab": {
          "base_uri": "https://localhost:8080/"
        },
        "id": "EdI3NkpQvVsg",
        "outputId": "7036efe1-0fd5-4ada-bb27-020692e6fdbb"
      },
      "execution_count": 12,
      "outputs": [
        {
          "output_type": "stream",
          "name": "stdout",
          "text": [
            "Epoch 1/10\n",
            "98/98 [==============================] - 6s 35ms/step - loss: 0.5066 - accuracy: 0.7569\n",
            "Epoch 2/10\n",
            "98/98 [==============================] - 3s 34ms/step - loss: 0.3022 - accuracy: 0.8762\n",
            "Epoch 3/10\n",
            "98/98 [==============================] - 3s 34ms/step - loss: 0.2385 - accuracy: 0.9078\n",
            "Epoch 4/10\n",
            "98/98 [==============================] - 3s 34ms/step - loss: 0.2050 - accuracy: 0.9224\n",
            "Epoch 5/10\n",
            "98/98 [==============================] - 3s 34ms/step - loss: 0.1696 - accuracy: 0.9372\n",
            "Epoch 6/10\n",
            "98/98 [==============================] - 3s 34ms/step - loss: 0.1413 - accuracy: 0.9488\n",
            "Epoch 7/10\n",
            "98/98 [==============================] - 3s 34ms/step - loss: 0.1198 - accuracy: 0.9578\n",
            "Epoch 8/10\n",
            "98/98 [==============================] - 3s 34ms/step - loss: 0.0998 - accuracy: 0.9641\n",
            "Epoch 9/10\n",
            "98/98 [==============================] - 3s 34ms/step - loss: 0.0790 - accuracy: 0.9723\n",
            "Epoch 10/10\n",
            "98/98 [==============================] - 3s 34ms/step - loss: 0.0645 - accuracy: 0.9778\n"
          ]
        },
        {
          "output_type": "execute_result",
          "data": {
            "text/plain": [
              "<keras.callbacks.History at 0x7f6d973d3b90>"
            ]
          },
          "metadata": {},
          "execution_count": 12
        }
      ]
    },
    {
      "cell_type": "markdown",
      "source": [
        "### Evaluar el modelo"
      ],
      "metadata": {
        "id": "G5nEW9dywd6u"
      }
    },
    {
      "cell_type": "code",
      "source": [
        "test_loss, test_accuracy = model.evaluate(X_test, y_test)"
      ],
      "metadata": {
        "colab": {
          "base_uri": "https://localhost:8080/"
        },
        "id": "XXm9uc_Ewfl9",
        "outputId": "037ad463-c46e-4150-950f-4f58da7ae6a4"
      },
      "execution_count": 13,
      "outputs": [
        {
          "output_type": "stream",
          "name": "stdout",
          "text": [
            "782/782 [==============================] - 8s 9ms/step - loss: 0.7508 - accuracy: 0.8140\n"
          ]
        }
      ]
    },
    {
      "cell_type": "code",
      "source": [
        "print('Test accuracy: {}'.format(test_accuracy))"
      ],
      "metadata": {
        "colab": {
          "base_uri": "https://localhost:8080/"
        },
        "id": "EGE-6F7bwm8w",
        "outputId": "219d6f02-1497-4c44-848b-01879bd4b038"
      },
      "execution_count": 14,
      "outputs": [
        {
          "output_type": "stream",
          "name": "stdout",
          "text": [
            "Test accuracy: 0.8140400052070618\n"
          ]
        }
      ]
    }
  ]
}