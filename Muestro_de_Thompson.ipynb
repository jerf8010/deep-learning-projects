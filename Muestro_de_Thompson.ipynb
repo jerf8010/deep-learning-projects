{
  "nbformat": 4,
  "nbformat_minor": 0,
  "metadata": {
    "colab": {
      "name": "Muestro de Thompson.ipynb",
      "provenance": []
    },
    "kernelspec": {
      "name": "python3",
      "display_name": "Python 3"
    },
    "language_info": {
      "name": "python"
    }
  },
  "cells": [
    {
      "cell_type": "markdown",
      "source": [
        "# Maximización de beneficios de una empresa de venta online con Muestreo de Thompson"
      ],
      "metadata": {
        "id": "JZFLGcaqwHTG"
      }
    },
    {
      "cell_type": "markdown",
      "source": [
        "### Importar las librerías"
      ],
      "metadata": {
        "id": "l7xB5cyCwW8G"
      }
    },
    {
      "cell_type": "code",
      "source": [
        "import numpy as np\n",
        "import pandas as pd\n",
        "import matplotlib.pyplot as plt\n",
        "import random"
      ],
      "metadata": {
        "id": "2EGlpRdIwdKz"
      },
      "execution_count": 1,
      "outputs": []
    },
    {
      "cell_type": "markdown",
      "source": [
        "### Configuración de los parámetros"
      ],
      "metadata": {
        "id": "OX14d97nwZVF"
      }
    },
    {
      "cell_type": "code",
      "execution_count": 2,
      "metadata": {
        "id": "1xucmGwnv6w-"
      },
      "outputs": [],
      "source": [
        "N = 10000 # rondas\n",
        "d = 9 # Número de estrategias"
      ]
    },
    {
      "cell_type": "markdown",
      "source": [
        "### Creación de la simulación"
      ],
      "metadata": {
        "id": "lVJkuGC-zTPK"
      }
    },
    {
      "cell_type": "code",
      "source": [
        "conversion_rates = [0.05, 0.13, 0.09, 0.16, 0.11, 0.04, 0.20, 0.08, 0.01]\n",
        "X = np.array(np.zeros([N, d]))\n",
        "\n",
        "for i in range(N):\n",
        "  for j in range(d):\n",
        "    if np.random.rand() <= conversion_rates[j]:\n",
        "      X[i,j] = 1"
      ],
      "metadata": {
        "id": "nOocBn24zbw2"
      },
      "execution_count": 3,
      "outputs": []
    },
    {
      "cell_type": "code",
      "source": [
        "X"
      ],
      "metadata": {
        "colab": {
          "base_uri": "https://localhost:8080/"
        },
        "id": "ydgYTMzR11rc",
        "outputId": "74ee90c3-1b63-4c89-b3e0-4b4c936a01bd"
      },
      "execution_count": 4,
      "outputs": [
        {
          "output_type": "execute_result",
          "data": {
            "text/plain": [
              "array([[0., 0., 0., ..., 1., 0., 0.],\n",
              "       [0., 0., 0., ..., 1., 0., 0.],\n",
              "       [0., 0., 0., ..., 0., 0., 0.],\n",
              "       ...,\n",
              "       [0., 0., 0., ..., 0., 0., 0.],\n",
              "       [0., 0., 0., ..., 1., 0., 0.],\n",
              "       [0., 0., 0., ..., 0., 0., 0.]])"
            ]
          },
          "metadata": {},
          "execution_count": 4
        }
      ]
    },
    {
      "cell_type": "markdown",
      "source": [
        "### Implementación de la selección aleatoria y el muestreo de Thompson"
      ],
      "metadata": {
        "id": "7tWOCiED2zkK"
      }
    },
    {
      "cell_type": "code",
      "source": [
        "strategies_selected_rs = [] # Resultados seleccionados con selección aleatoria\n",
        "strategies_selected_ts = [] # Resultados seleccionados del muestreo de Thompson\n",
        "total_reward_rs = 0\n",
        "total_reward_ts = 0\n",
        "number_of_rewards_1 = [0] * d # Cuantas veces la recompesa i-esima recibe una recompensa igual a 1\n",
        "number_of_rewards_0 = [0] * d # Cuantas veces la recompesa i-esima recibe una recompensa igual a 0\n",
        "\n",
        "for n in range(N):\n",
        "  # Selección aleatoria\n",
        "  strategy_rs = random.randrange(d) # Estrategia seleccionada de manera aleatoria\n",
        "  strategies_selected_rs.append(strategy_rs) \n",
        "  reward_rs = X[n, strategy_rs]\n",
        "  total_reward_rs += reward_rs\n",
        "\n",
        "  # Muestreo de Thompson\n",
        "  strategy_ts = 0\n",
        "  max_random = 0\n",
        "  for i in range(d):\n",
        "    # Paso 1\n",
        "    random_beta = random.betavariate(number_of_rewards_1[i] + 1, \n",
        "                                     number_of_rewards_0[i] + 1) # La selección sigue la distribución beta\n",
        "    # Paso 2\n",
        "    if random_beta > max_random:\n",
        "      max_random = random_beta\n",
        "      strategy_ts = i\n",
        "\n",
        "  # Paso 3  \n",
        "  reward_ts = X[n, strategy_ts]\n",
        "  if reward_ts == 1:\n",
        "    number_of_rewards_1[strategy_ts] += 1\n",
        "  else:\n",
        "    number_of_rewards_0[strategy_ts] += 1\n",
        "  \n",
        "  strategies_selected_ts.append(strategy_ts)\n",
        "  total_reward_ts += reward_ts\n"
      ],
      "metadata": {
        "id": "THfb8rSv2yc1"
      },
      "execution_count": 5,
      "outputs": []
    },
    {
      "cell_type": "markdown",
      "source": [
        "### Calcular el retorno relativo y absoluto"
      ],
      "metadata": {
        "id": "2PGG0xAu-1oE"
      }
    },
    {
      "cell_type": "code",
      "source": [
        "absolute_return = (total_reward_ts - total_reward_rs) * 100\n",
        "relative_return = (total_reward_ts - total_reward_rs) / total_reward_rs * 100\n",
        "print('Rendimiento absoluto: {:.0f} $'.format(absolute_return))\n",
        "print('Rendimiento relativo: {:.0f} %'.format(relative_return))"
      ],
      "metadata": {
        "colab": {
          "base_uri": "https://localhost:8080/"
        },
        "id": "zASXxIW8_GEy",
        "outputId": "5ec46c74-a5ea-4cd6-c01d-1e6df6c0960d"
      },
      "execution_count": 6,
      "outputs": [
        {
          "output_type": "stream",
          "name": "stdout",
          "text": [
            "Rendimiento absoluto: 90600 $\n",
            "Rendimiento relativo: 91 %\n"
          ]
        }
      ]
    },
    {
      "cell_type": "markdown",
      "source": [
        "### Representación del histograma de selecciones"
      ],
      "metadata": {
        "id": "WwpmpmtfArcd"
      }
    },
    {
      "cell_type": "code",
      "source": [
        "plt.hist(strategies_selected_ts)\n",
        "plt.title('Histograma de selecciones')\n",
        "plt.xlabel('Estrategia')\n",
        "plt.ylabel('Número que se ha seleccionado la estrategia de marketing')\n",
        "plt.show()"
      ],
      "metadata": {
        "colab": {
          "base_uri": "https://localhost:8080/",
          "height": 327
        },
        "id": "xPJ63pJ9AvDD",
        "outputId": "2c8c4f02-95aa-47b5-e436-829df2f67ec4"
      },
      "execution_count": 7,
      "outputs": [
        {
          "output_type": "display_data",
          "data": {
            "image/png": "[encoded data removed]",
            "text/plain": [
              "<Figure size 432x288 with 1 Axes>"
            ]
          },
          "metadata": {
            "needs_background": "light"
          }
        }
      ]
    },
    {
      "cell_type": "code",
      "source": [
        ""
      ],
      "metadata": {
        "id": "dXcirbKOBhlx"
      },
      "execution_count": null,
      "outputs": []
    }
  ]
}