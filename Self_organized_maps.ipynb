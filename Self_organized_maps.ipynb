{
  "nbformat": 4,
  "nbformat_minor": 0,
  "metadata": {
    "colab": {
      "name": "Self_organized_maps.ipynb",
      "provenance": []
    },
    "kernelspec": {
      "name": "python3",
      "display_name": "Python 3"
    },
    "language_info": {
      "name": "python"
    }
  },
  "cells": [
    {
      "cell_type": "markdown",
      "source": [
        "# Self Organized Maps"
      ],
      "metadata": {
        "id": "cpM7D0kbUFzC"
      }
    },
    {
      "cell_type": "markdown",
      "source": [
        "### Deteccion de fraudes\n"
      ],
      "metadata": {
        "id": "MtVCGOALUM-x"
      }
    },
    {
      "cell_type": "code",
      "execution_count": 1,
      "metadata": {
        "id": "AU9IFXFlUFK3"
      },
      "outputs": [],
      "source": [
        "# Importar las librerias\n",
        "import numpy as np\n",
        "import matplotlib.pyplot as plt\n",
        "import pandas as pd"
      ]
    },
    {
      "cell_type": "code",
      "source": [
        "# Importar el dataset\n",
        "dataset = pd.read_csv('https://raw.githubusercontent.com/joanby/deeplearning-az/master/datasets/Part%204%20-%20Self%20Organizing%20Maps%20(SOM)/Credit_Card_Applications.csv')\n",
        "dataset.head(3)"
      ],
      "metadata": {
        "colab": {
          "base_uri": "https://localhost:8080/",
          "height": 143
        },
        "id": "TraPJrigUY9T",
        "outputId": "b7f1beff-5c3a-4c19-ae82-cde8cf5c0fc8"
      },
      "execution_count": 2,
      "outputs": [
        {
          "output_type": "execute_result",
          "data": {
            "text/html": [
              "\n",
              "  <div id=\"df-f76fe319-2c0d-4bff-b855-83220cc0db92\">\n",
              "    <div class=\"colab-df-container\">\n",
              "      <div>\n",
              "<style scoped>\n",
              "    .dataframe tbody tr th:only-of-type {\n",
              "        vertical-align: middle;\n",
              "    }\n",
              "\n",
              "    .dataframe tbody tr th {\n",
              "        vertical-align: top;\n",
              "    }\n",
              "\n",
              "    .dataframe thead th {\n",
              "        text-align: right;\n",
              "    }\n",
              "</style>\n",
              "<table border=\"1\" class=\"dataframe\">\n",
              "  <thead>\n",
              "    <tr style=\"text-align: right;\">\n",
              "      <th></th>\n",
              "      <th>CustomerID</th>\n",
              "      <th>A1</th>\n",
              "      <th>A2</th>\n",
              "      <th>A3</th>\n",
              "      <th>A4</th>\n",
              "      <th>A5</th>\n",
              "      <th>A6</th>\n",
              "      <th>A7</th>\n",
              "      <th>A8</th>\n",
              "      <th>A9</th>\n",
              "      <th>A10</th>\n",
              "      <th>A11</th>\n",
              "      <th>A12</th>\n",
              "      <th>A13</th>\n",
              "      <th>A14</th>\n",
              "      <th>Class</th>\n",
              "    </tr>\n",
              "  </thead>\n",
              "  <tbody>\n",
              "    <tr>\n",
              "      <th>0</th>\n",
              "      <td>15776156</td>\n",
              "      <td>1</td>\n",
              "      <td>22.08</td>\n",
              "      <td>11.46</td>\n",
              "      <td>2</td>\n",
              "      <td>4</td>\n",
              "      <td>4</td>\n",
              "      <td>1.585</td>\n",
              "      <td>0</td>\n",
              "      <td>0</td>\n",
              "      <td>0</td>\n",
              "      <td>1</td>\n",
              "      <td>2</td>\n",
              "      <td>100</td>\n",
              "      <td>1213</td>\n",
              "      <td>0</td>\n",
              "    </tr>\n",
              "    <tr>\n",
              "      <th>1</th>\n",
              "      <td>15739548</td>\n",
              "      <td>0</td>\n",
              "      <td>22.67</td>\n",
              "      <td>7.00</td>\n",
              "      <td>2</td>\n",
              "      <td>8</td>\n",
              "      <td>4</td>\n",
              "      <td>0.165</td>\n",
              "      <td>0</td>\n",
              "      <td>0</td>\n",
              "      <td>0</td>\n",
              "      <td>0</td>\n",
              "      <td>2</td>\n",
              "      <td>160</td>\n",
              "      <td>1</td>\n",
              "      <td>0</td>\n",
              "    </tr>\n",
              "    <tr>\n",
              "      <th>2</th>\n",
              "      <td>15662854</td>\n",
              "      <td>0</td>\n",
              "      <td>29.58</td>\n",
              "      <td>1.75</td>\n",
              "      <td>1</td>\n",
              "      <td>4</td>\n",
              "      <td>4</td>\n",
              "      <td>1.250</td>\n",
              "      <td>0</td>\n",
              "      <td>0</td>\n",
              "      <td>0</td>\n",
              "      <td>1</td>\n",
              "      <td>2</td>\n",
              "      <td>280</td>\n",
              "      <td>1</td>\n",
              "      <td>0</td>\n",
              "    </tr>\n",
              "  </tbody>\n",
              "</table>\n",
              "</div>\n",
              "      <button class=\"colab-df-convert\" onclick=\"convertToInteractive('df-f76fe319-2c0d-4bff-b855-83220cc0db92')\"\n",
              "              title=\"Convert this dataframe to an interactive table.\"\n",
              "              style=\"display:none;\">\n",
              "        \n",
              "  <svg xmlns=\"http://www.w3.org/2000/svg\" height=\"24px\"viewBox=\"0 0 24 24\"\n",
              "       width=\"24px\">\n",
              "    <path d=\"M0 0h24v24H0V0z\" fill=\"none\"/>\n",
              "    <path d=\"M18.56 5.44l.94 2.06.94-2.06 2.06-.94-2.06-.94-.94-2.06-.94 2.06-2.06.94zm-11 1L8.5 8.5l.94-2.06 2.06-.94-2.06-.94L8.5 2.5l-.94 2.06-2.06.94zm10 10l.94 2.06.94-2.06 2.06-.94-2.06-.94-.94-2.06-.94 2.06-2.06.94z\"/><path d=\"M17.41 7.96l-1.37-1.37c-.4-.4-.92-.59-1.43-.59-.52 0-1.04.2-1.43.59L10.3 9.45l-7.72 7.72c-.78.78-.78 2.05 0 2.83L4 21.41c.39.39.9.59 1.41.59.51 0 1.02-.2 1.41-.59l7.78-7.78 2.81-2.81c.8-.78.8-2.07 0-2.86zM5.41 20L4 18.59l7.72-7.72 1.47 1.35L5.41 20z\"/>\n",
              "  </svg>\n",
              "      </button>\n",
              "      \n",
              "  <style>\n",
              "    .colab-df-container {\n",
              "      display:flex;\n",
              "      flex-wrap:wrap;\n",
              "      gap: 12px;\n",
              "    }\n",
              "\n",
              "    .colab-df-convert {\n",
              "      background-color: #E8F0FE;\n",
              "      border: none;\n",
              "      border-radius: 50%;\n",
              "      cursor: pointer;\n",
              "      display: none;\n",
              "      fill: #1967D2;\n",
              "      height: 32px;\n",
              "      padding: 0 0 0 0;\n",
              "      width: 32px;\n",
              "    }\n",
              "\n",
              "    .colab-df-convert:hover {\n",
              "      background-color: #E2EBFA;\n",
              "      box-shadow: 0px 1px 2px rgba(60, 64, 67, 0.3), 0px 1px 3px 1px rgba(60, 64, 67, 0.15);\n",
              "      fill: #174EA6;\n",
              "    }\n",
              "\n",
              "    [theme=dark] .colab-df-convert {\n",
              "      background-color: #3B4455;\n",
              "      fill: #D2E3FC;\n",
              "    }\n",
              "\n",
              "    [theme=dark] .colab-df-convert:hover {\n",
              "      background-color: #434B5C;\n",
              "      box-shadow: 0px 1px 3px 1px rgba(0, 0, 0, 0.15);\n",
              "      filter: drop-shadow(0px 1px 2px rgba(0, 0, 0, 0.3));\n",
              "      fill: #FFFFFF;\n",
              "    }\n",
              "  </style>\n",
              "\n",
              "      <script>\n",
              "        const buttonEl =\n",
              "          document.querySelector('#df-f76fe319-2c0d-4bff-b855-83220cc0db92 button.colab-df-convert');\n",
              "        buttonEl.style.display =\n",
              "          google.colab.kernel.accessAllowed ? 'block' : 'none';\n",
              "\n",
              "        async function convertToInteractive(key) {\n",
              "          const element = document.querySelector('#df-f76fe319-2c0d-4bff-b855-83220cc0db92');\n",
              "          const dataTable =\n",
              "            await google.colab.kernel.invokeFunction('convertToInteractive',\n",
              "                                                     [key], {});\n",
              "          if (!dataTable) return;\n",
              "\n",
              "          const docLinkHtml = 'Like what you see? Visit the ' +\n",
              "            '<a target=\"_blank\" href=https://colab.research.google.com/notebooks/data_table.ipynb>data table notebook</a>'\n",
              "            + ' to learn more about interactive tables.';\n",
              "          element.innerHTML = '';\n",
              "          dataTable['output_type'] = 'display_data';\n",
              "          await google.colab.output.renderOutput(dataTable, element);\n",
              "          const docLink = document.createElement('div');\n",
              "          docLink.innerHTML = docLinkHtml;\n",
              "          element.appendChild(docLink);\n",
              "        }\n",
              "      </script>\n",
              "    </div>\n",
              "  </div>\n",
              "  "
            ],
            "text/plain": [
              "   CustomerID  A1     A2     A3  A4  A5  ...  A10  A11  A12  A13   A14  Class\n",
              "0    15776156   1  22.08  11.46   2   4  ...    0    1    2  100  1213      0\n",
              "1    15739548   0  22.67   7.00   2   8  ...    0    0    2  160     1      0\n",
              "2    15662854   0  29.58   1.75   1   4  ...    0    1    2  280     1      0\n",
              "\n",
              "[3 rows x 16 columns]"
            ]
          },
          "metadata": {},
          "execution_count": 2
        }
      ]
    },
    {
      "cell_type": "code",
      "source": [
        "X = dataset.iloc[:, :-1].values\n",
        "X"
      ],
      "metadata": {
        "colab": {
          "base_uri": "https://localhost:8080/"
        },
        "id": "1_0CMdwjVTT1",
        "outputId": "3e9d04fb-df7a-41c1-a89b-3683acedf846"
      },
      "execution_count": 3,
      "outputs": [
        {
          "output_type": "execute_result",
          "data": {
            "text/plain": [
              "array([[1.5776156e+07, 1.0000000e+00, 2.2080000e+01, ..., 2.0000000e+00,\n",
              "        1.0000000e+02, 1.2130000e+03],\n",
              "       [1.5739548e+07, 0.0000000e+00, 2.2670000e+01, ..., 2.0000000e+00,\n",
              "        1.6000000e+02, 1.0000000e+00],\n",
              "       [1.5662854e+07, 0.0000000e+00, 2.9580000e+01, ..., 2.0000000e+00,\n",
              "        2.8000000e+02, 1.0000000e+00],\n",
              "       ...,\n",
              "       [1.5675450e+07, 0.0000000e+00, 1.8830000e+01, ..., 2.0000000e+00,\n",
              "        1.0000000e+02, 1.0000000e+00],\n",
              "       [1.5776494e+07, 0.0000000e+00, 2.7420000e+01, ..., 2.0000000e+00,\n",
              "        1.2000000e+02, 1.2000000e+01],\n",
              "       [1.5592412e+07, 1.0000000e+00, 4.1000000e+01, ..., 1.0000000e+00,\n",
              "        5.6000000e+02, 1.0000000e+00]])"
            ]
          },
          "metadata": {},
          "execution_count": 3
        }
      ]
    },
    {
      "cell_type": "code",
      "source": [
        "# La ulitma columna indica si elcliente recibio o no la tarjeta\n",
        "y = dataset.iloc[:, -1].values\n",
        "y"
      ],
      "metadata": {
        "colab": {
          "base_uri": "https://localhost:8080/"
        },
        "id": "xktZLxfnV6NU",
        "outputId": "f6a8410a-8982-447e-879c-ee89e6cffb8f"
      },
      "execution_count": 4,
      "outputs": [
        {
          "output_type": "execute_result",
          "data": {
            "text/plain": [
              "array([0, 0, 0, 1, 1, 1, 0, 1, 0, 0, 1, 1, 0, 1, 0, 1, 1, 1, 0, 1, 0, 0,\n",
              "       0, 0, 0, 1, 0, 1, 1, 1, 1, 0, 0, 1, 0, 0, 1, 1, 1, 1, 1, 0, 1, 0,\n",
              "       0, 1, 0, 1, 0, 1, 0, 0, 0, 0, 0, 1, 1, 0, 1, 1, 0, 0, 1, 0, 1, 1,\n",
              "       0, 0, 0, 1, 0, 0, 0, 1, 1, 0, 0, 0, 0, 1, 1, 0, 0, 0, 0, 1, 0, 1,\n",
              "       1, 0, 0, 0, 0, 1, 0, 1, 0, 0, 0, 1, 0, 1, 1, 1, 0, 1, 1, 0, 1, 0,\n",
              "       0, 0, 0, 1, 0, 1, 1, 1, 1, 1, 1, 0, 0, 1, 1, 0, 1, 0, 1, 1, 1, 0,\n",
              "       0, 0, 0, 0, 0, 1, 1, 1, 0, 0, 0, 1, 0, 1, 1, 0, 0, 1, 1, 0, 0, 0,\n",
              "       1, 1, 1, 0, 1, 0, 0, 0, 1, 1, 0, 0, 0, 1, 0, 0, 0, 1, 0, 0, 1, 0,\n",
              "       0, 0, 1, 1, 0, 0, 1, 1, 1, 0, 0, 0, 0, 0, 0, 1, 0, 0, 0, 1, 1, 0,\n",
              "       0, 0, 1, 0, 1, 0, 1, 1, 0, 0, 0, 0, 1, 1, 0, 0, 0, 1, 0, 0, 0, 1,\n",
              "       1, 0, 1, 0, 0, 0, 0, 1, 1, 1, 1, 0, 0, 1, 1, 1, 0, 0, 0, 1, 1, 1,\n",
              "       1, 0, 0, 0, 0, 1, 1, 1, 0, 0, 1, 0, 1, 1, 1, 1, 0, 0, 0, 1, 0, 1,\n",
              "       1, 0, 0, 1, 0, 0, 0, 1, 0, 1, 1, 0, 0, 0, 1, 1, 0, 0, 0, 0, 0, 1,\n",
              "       1, 1, 0, 0, 0, 0, 1, 1, 1, 0, 0, 0, 1, 0, 1, 0, 0, 0, 0, 1, 0, 1,\n",
              "       0, 0, 0, 0, 0, 1, 1, 0, 0, 1, 0, 1, 1, 1, 1, 1, 1, 1, 0, 0, 0, 0,\n",
              "       1, 1, 1, 0, 0, 0, 1, 0, 1, 0, 0, 0, 1, 1, 1, 1, 1, 1, 1, 0, 1, 0,\n",
              "       1, 0, 0, 0, 0, 0, 1, 0, 1, 1, 0, 0, 0, 0, 0, 1, 0, 1, 1, 0, 0, 0,\n",
              "       1, 1, 1, 0, 0, 1, 1, 0, 0, 0, 1, 1, 0, 1, 1, 1, 1, 0, 0, 1, 1, 0,\n",
              "       0, 0, 0, 0, 0, 1, 0, 0, 0, 1, 1, 0, 1, 0, 0, 0, 1, 1, 1, 0, 0, 1,\n",
              "       0, 1, 1, 1, 0, 1, 0, 0, 1, 0, 0, 0, 1, 0, 0, 1, 0, 1, 0, 1, 1, 0,\n",
              "       1, 0, 0, 1, 0, 1, 1, 0, 0, 0, 0, 0, 1, 1, 0, 0, 1, 1, 0, 1, 0, 1,\n",
              "       0, 1, 0, 1, 1, 0, 1, 0, 1, 1, 1, 0, 0, 0, 0, 0, 1, 0, 1, 0, 0, 0,\n",
              "       1, 1, 1, 1, 1, 0, 1, 1, 0, 0, 0, 1, 1, 1, 1, 1, 1, 0, 1, 1, 1, 1,\n",
              "       0, 0, 0, 0, 0, 0, 0, 1, 0, 0, 1, 1, 1, 0, 1, 0, 0, 1, 1, 0, 1, 0,\n",
              "       0, 0, 0, 0, 0, 1, 0, 1, 0, 1, 1, 1, 0, 0, 1, 0, 0, 0, 0, 0, 0, 0,\n",
              "       1, 1, 0, 0, 0, 0, 0, 1, 0, 1, 0, 1, 0, 0, 1, 1, 1, 0, 0, 0, 0, 0,\n",
              "       1, 0, 1, 1, 0, 0, 0, 0, 0, 1, 1, 1, 0, 1, 0, 1, 1, 0, 0, 1, 0, 1,\n",
              "       0, 0, 1, 1, 0, 1, 0, 1, 1, 1, 1, 0, 0, 1, 0, 1, 1, 0, 1, 0, 1, 1,\n",
              "       0, 0, 0, 1, 0, 1, 1, 0, 1, 0, 0, 0, 0, 0, 1, 0, 1, 0, 0, 0, 0, 0,\n",
              "       0, 1, 0, 1, 1, 0, 0, 0, 0, 0, 0, 1, 1, 0, 0, 1, 0, 0, 1, 0, 0, 1,\n",
              "       1, 0, 1, 1, 0, 0, 0, 0, 0, 0, 1, 1, 0, 1, 1, 0, 0, 0, 0, 1, 0, 0,\n",
              "       1, 0, 1, 1, 0, 1, 1, 1])"
            ]
          },
          "metadata": {},
          "execution_count": 4
        }
      ]
    },
    {
      "cell_type": "code",
      "source": [
        "# Escalado de datos\n",
        "from sklearn.preprocessing import MinMaxScaler\n",
        "scaler = MinMaxScaler(feature_range = (0, 1) )\n",
        "X = scaler.fit_transform(X)\n",
        "X"
      ],
      "metadata": {
        "colab": {
          "base_uri": "https://localhost:8080/"
        },
        "id": "b066I3QGWC7F",
        "outputId": "72dab9eb-d18b-4f13-9e3a-8a07dd488c15"
      },
      "execution_count": 5,
      "outputs": [
        {
          "output_type": "execute_result",
          "data": {
            "text/plain": [
              "array([[8.42681467e-01, 1.00000000e+00, 1.25263158e-01, ...,\n",
              "        5.00000000e-01, 5.00000000e-02, 1.21200000e-02],\n",
              "       [6.96090562e-01, 0.00000000e+00, 1.34135338e-01, ...,\n",
              "        5.00000000e-01, 8.00000000e-02, 0.00000000e+00],\n",
              "       [3.88981656e-01, 0.00000000e+00, 2.38045113e-01, ...,\n",
              "        5.00000000e-01, 1.40000000e-01, 0.00000000e+00],\n",
              "       ...,\n",
              "       [4.39420332e-01, 0.00000000e+00, 7.63909774e-02, ...,\n",
              "        5.00000000e-01, 5.00000000e-02, 0.00000000e+00],\n",
              "       [8.44034934e-01, 0.00000000e+00, 2.05563910e-01, ...,\n",
              "        5.00000000e-01, 6.00000000e-02, 1.10000000e-04],\n",
              "       [1.06907888e-01, 1.00000000e+00, 4.09774436e-01, ...,\n",
              "        0.00000000e+00, 2.80000000e-01, 0.00000000e+00]])"
            ]
          },
          "metadata": {},
          "execution_count": 5
        }
      ]
    },
    {
      "cell_type": "code",
      "source": [
        "# Entrenar el SOM\n",
        "#!pip install minisom"
      ],
      "metadata": {
        "id": "9pgxXyD-Wv5l"
      },
      "execution_count": 6,
      "outputs": []
    },
    {
      "cell_type": "code",
      "source": [
        "from minisom import MiniSom\n",
        "som = MiniSom(x = 10, y = 10, input_len = 15, learning_rate = 0.5, sigma = 1.0)\n",
        "som.random_weights_init(X) # Inicializar los pesos aleatorios\n",
        "som.train_random(data = X, num_iteration = 100)"
      ],
      "metadata": {
        "id": "YeCqPzl_XZUG"
      },
      "execution_count": 7,
      "outputs": []
    },
    {
      "cell_type": "code",
      "source": [
        "# Visualizar los resultados\n",
        "from pylab import bone, pcolor, colorbar, plot, show\n",
        "\n",
        "bone() # Ventana que contendrá el mapa\n",
        "pcolor(som.distance_map().T) # Distacia media entre neurona, los que están en color blanco son los valores atípicos (posible fraudes)\n",
        "colorbar()\n",
        "\n",
        "markers = ['o', 's']\n",
        "colors = ['r', 'g']\n",
        "for i, x in enumerate(X): # i: indice, x : valor de las caracteristicas\n",
        "  w = som.winner(x)\n",
        "  plot(w[0]+ 0.5, w[1] + 0.5, \n",
        "       markers[y[i]],\n",
        "       markeredgecolor = colors[y[i]],\n",
        "       markerfacecolor = 'None',\n",
        "       markersize = 10,\n",
        "       markeredgewidth = 2)\n",
        "show()\n",
        "\n"
      ],
      "metadata": {
        "colab": {
          "base_uri": "https://localhost:8080/",
          "height": 269
        },
        "id": "fv37OZREZh9n",
        "outputId": "fb28f5d4-f414-428d-ccfa-28d0103e8fae"
      },
      "execution_count": 8,
      "outputs": [
        {
          "output_type": "display_data",
          "data": {
            "image/png": "[encoded data removed]",
            "text/plain": [
              "<Figure size 432x288 with 2 Axes>"
            ]
          },
          "metadata": {
            "needs_background": "light"
          }
        }
      ]
    },
    {
      "cell_type": "code",
      "source": [
        "\n",
        "# Encontrar los fraudes\n",
        "mappings = som.win_map(X)\n",
        "frauds = np.concatenate( (mappings[(8,4)], mappings[(7, 1)]), axis = 0)"
      ],
      "metadata": {
        "id": "Q5N8cSCCfHrg"
      },
      "execution_count": 12,
      "outputs": []
    },
    {
      "cell_type": "code",
      "source": [
        "frauds = scaler.inverse_transform(frauds)\n"
      ],
      "metadata": {
        "colab": {
          "base_uri": "https://localhost:8080/"
        },
        "id": "k0RrTJBbg-rq",
        "outputId": "b2544058-b44a-40b1-de06-bb200c659786"
      },
      "execution_count": 13,
      "outputs": [
        {
          "output_type": "execute_result",
          "data": {
            "text/plain": [
              "array([[1.5646594e+07, 0.0000000e+00, 1.5920000e+01, 2.8750000e+00,\n",
              "        2.0000000e+00, 1.1000000e+01, 4.0000000e+00, 8.5000000e-02,\n",
              "        0.0000000e+00, 0.0000000e+00, 0.0000000e+00, 0.0000000e+00,\n",
              "        2.0000000e+00, 1.2000000e+02, 1.0000000e+00],\n",
              "       [1.5577771e+07, 0.0000000e+00, 2.9500000e+01, 1.0850000e+00,\n",
              "        1.0000000e+00, 1.4000000e+01, 4.0000000e+00, 1.0000000e+00,\n",
              "        0.0000000e+00, 0.0000000e+00, 0.0000000e+00, 0.0000000e+00,\n",
              "        2.0000000e+00, 2.8000000e+02, 1.4000000e+01],\n",
              "       [1.5593834e+07, 0.0000000e+00, 1.6330000e+01, 2.1000000e-01,\n",
              "        2.0000000e+00, 6.0000000e+00, 4.0000000e+00, 1.2500000e-01,\n",
              "        0.0000000e+00, 0.0000000e+00, 0.0000000e+00, 0.0000000e+00,\n",
              "        2.0000000e+00, 2.0000000e+02, 2.0000000e+00],\n",
              "       [1.5673907e+07, 0.0000000e+00, 7.1580000e+01, 0.0000000e+00,\n",
              "        2.0000000e+00, 8.0000000e+00, 4.0000000e+00, 0.0000000e+00,\n",
              "        0.0000000e+00, 0.0000000e+00, 0.0000000e+00, 0.0000000e+00,\n",
              "        3.0000000e+00, 1.8400000e+02, 1.0000000e+00],\n",
              "       [1.5599272e+07, 0.0000000e+00, 3.3670000e+01, 3.7500000e-01,\n",
              "        2.0000000e+00, 1.3000000e+01, 4.0000000e+00, 3.7500000e-01,\n",
              "        0.0000000e+00, 0.0000000e+00, 0.0000000e+00, 0.0000000e+00,\n",
              "        2.0000000e+00, 3.0000000e+02, 4.5000000e+01],\n",
              "       [1.5611682e+07, 0.0000000e+00, 2.0080000e+01, 1.2500000e+00,\n",
              "        2.0000000e+00, 8.0000000e+00, 4.0000000e+00, 0.0000000e+00,\n",
              "        0.0000000e+00, 0.0000000e+00, 0.0000000e+00, 0.0000000e+00,\n",
              "        2.0000000e+00, 0.0000000e+00, 1.0000000e+00],\n",
              "       [1.5598266e+07, 1.0000000e+00, 3.1670000e+01, 1.6165000e+01,\n",
              "        2.0000000e+00, 2.0000000e+00, 4.0000000e+00, 3.0000000e+00,\n",
              "        1.0000000e+00, 1.0000000e+00, 9.0000000e+00, 0.0000000e+00,\n",
              "        2.0000000e+00, 2.5000000e+02, 7.3100000e+02],\n",
              "       [1.5593694e+07, 1.0000000e+00, 5.5920000e+01, 1.1500000e+01,\n",
              "        2.0000000e+00, 1.0000000e+00, 1.0000000e+00, 5.0000000e+00,\n",
              "        1.0000000e+00, 1.0000000e+00, 5.0000000e+00, 0.0000000e+00,\n",
              "        2.0000000e+00, 0.0000000e+00, 8.8520000e+03]])"
            ]
          },
          "metadata": {},
          "execution_count": 13
        }
      ]
    },
    {
      "cell_type": "code",
      "source": [
        "pd.DataFrame(frauds)"
      ],
      "metadata": {
        "colab": {
          "base_uri": "https://localhost:8080/",
          "height": 300
        },
        "id": "h8lJb_CWhwrN",
        "outputId": "1a01ce19-132a-4c1b-9d78-cae73c1ea004"
      },
      "execution_count": 14,
      "outputs": [
        {
          "output_type": "execute_result",
          "data": {
            "text/html": [
              "\n",
              "  <div id=\"df-dd8764dc-2d6d-4e5a-82e0-5a70b133e977\">\n",
              "    <div class=\"colab-df-container\">\n",
              "      <div>\n",
              "<style scoped>\n",
              "    .dataframe tbody tr th:only-of-type {\n",
              "        vertical-align: middle;\n",
              "    }\n",
              "\n",
              "    .dataframe tbody tr th {\n",
              "        vertical-align: top;\n",
              "    }\n",
              "\n",
              "    .dataframe thead th {\n",
              "        text-align: right;\n",
              "    }\n",
              "</style>\n",
              "<table border=\"1\" class=\"dataframe\">\n",
              "  <thead>\n",
              "    <tr style=\"text-align: right;\">\n",
              "      <th></th>\n",
              "      <th>0</th>\n",
              "      <th>1</th>\n",
              "      <th>2</th>\n",
              "      <th>3</th>\n",
              "      <th>4</th>\n",
              "      <th>5</th>\n",
              "      <th>6</th>\n",
              "      <th>7</th>\n",
              "      <th>8</th>\n",
              "      <th>9</th>\n",
              "      <th>10</th>\n",
              "      <th>11</th>\n",
              "      <th>12</th>\n",
              "      <th>13</th>\n",
              "      <th>14</th>\n",
              "    </tr>\n",
              "  </thead>\n",
              "  <tbody>\n",
              "    <tr>\n",
              "      <th>0</th>\n",
              "      <td>15646594.0</td>\n",
              "      <td>0.0</td>\n",
              "      <td>15.92</td>\n",
              "      <td>2.875</td>\n",
              "      <td>2.0</td>\n",
              "      <td>11.0</td>\n",
              "      <td>4.0</td>\n",
              "      <td>0.085</td>\n",
              "      <td>0.0</td>\n",
              "      <td>0.0</td>\n",
              "      <td>0.0</td>\n",
              "      <td>0.0</td>\n",
              "      <td>2.0</td>\n",
              "      <td>120.0</td>\n",
              "      <td>1.0</td>\n",
              "    </tr>\n",
              "    <tr>\n",
              "      <th>1</th>\n",
              "      <td>15577771.0</td>\n",
              "      <td>0.0</td>\n",
              "      <td>29.50</td>\n",
              "      <td>1.085</td>\n",
              "      <td>1.0</td>\n",
              "      <td>14.0</td>\n",
              "      <td>4.0</td>\n",
              "      <td>1.000</td>\n",
              "      <td>0.0</td>\n",
              "      <td>0.0</td>\n",
              "      <td>0.0</td>\n",
              "      <td>0.0</td>\n",
              "      <td>2.0</td>\n",
              "      <td>280.0</td>\n",
              "      <td>14.0</td>\n",
              "    </tr>\n",
              "    <tr>\n",
              "      <th>2</th>\n",
              "      <td>15593834.0</td>\n",
              "      <td>0.0</td>\n",
              "      <td>16.33</td>\n",
              "      <td>0.210</td>\n",
              "      <td>2.0</td>\n",
              "      <td>6.0</td>\n",
              "      <td>4.0</td>\n",
              "      <td>0.125</td>\n",
              "      <td>0.0</td>\n",
              "      <td>0.0</td>\n",
              "      <td>0.0</td>\n",
              "      <td>0.0</td>\n",
              "      <td>2.0</td>\n",
              "      <td>200.0</td>\n",
              "      <td>2.0</td>\n",
              "    </tr>\n",
              "    <tr>\n",
              "      <th>3</th>\n",
              "      <td>15673907.0</td>\n",
              "      <td>0.0</td>\n",
              "      <td>71.58</td>\n",
              "      <td>0.000</td>\n",
              "      <td>2.0</td>\n",
              "      <td>8.0</td>\n",
              "      <td>4.0</td>\n",
              "      <td>0.000</td>\n",
              "      <td>0.0</td>\n",
              "      <td>0.0</td>\n",
              "      <td>0.0</td>\n",
              "      <td>0.0</td>\n",
              "      <td>3.0</td>\n",
              "      <td>184.0</td>\n",
              "      <td>1.0</td>\n",
              "    </tr>\n",
              "    <tr>\n",
              "      <th>4</th>\n",
              "      <td>15599272.0</td>\n",
              "      <td>0.0</td>\n",
              "      <td>33.67</td>\n",
              "      <td>0.375</td>\n",
              "      <td>2.0</td>\n",
              "      <td>13.0</td>\n",
              "      <td>4.0</td>\n",
              "      <td>0.375</td>\n",
              "      <td>0.0</td>\n",
              "      <td>0.0</td>\n",
              "      <td>0.0</td>\n",
              "      <td>0.0</td>\n",
              "      <td>2.0</td>\n",
              "      <td>300.0</td>\n",
              "      <td>45.0</td>\n",
              "    </tr>\n",
              "    <tr>\n",
              "      <th>5</th>\n",
              "      <td>15611682.0</td>\n",
              "      <td>0.0</td>\n",
              "      <td>20.08</td>\n",
              "      <td>1.250</td>\n",
              "      <td>2.0</td>\n",
              "      <td>8.0</td>\n",
              "      <td>4.0</td>\n",
              "      <td>0.000</td>\n",
              "      <td>0.0</td>\n",
              "      <td>0.0</td>\n",
              "      <td>0.0</td>\n",
              "      <td>0.0</td>\n",
              "      <td>2.0</td>\n",
              "      <td>0.0</td>\n",
              "      <td>1.0</td>\n",
              "    </tr>\n",
              "    <tr>\n",
              "      <th>6</th>\n",
              "      <td>15598266.0</td>\n",
              "      <td>1.0</td>\n",
              "      <td>31.67</td>\n",
              "      <td>16.165</td>\n",
              "      <td>2.0</td>\n",
              "      <td>2.0</td>\n",
              "      <td>4.0</td>\n",
              "      <td>3.000</td>\n",
              "      <td>1.0</td>\n",
              "      <td>1.0</td>\n",
              "      <td>9.0</td>\n",
              "      <td>0.0</td>\n",
              "      <td>2.0</td>\n",
              "      <td>250.0</td>\n",
              "      <td>731.0</td>\n",
              "    </tr>\n",
              "    <tr>\n",
              "      <th>7</th>\n",
              "      <td>15593694.0</td>\n",
              "      <td>1.0</td>\n",
              "      <td>55.92</td>\n",
              "      <td>11.500</td>\n",
              "      <td>2.0</td>\n",
              "      <td>1.0</td>\n",
              "      <td>1.0</td>\n",
              "      <td>5.000</td>\n",
              "      <td>1.0</td>\n",
              "      <td>1.0</td>\n",
              "      <td>5.0</td>\n",
              "      <td>0.0</td>\n",
              "      <td>2.0</td>\n",
              "      <td>0.0</td>\n",
              "      <td>8852.0</td>\n",
              "    </tr>\n",
              "  </tbody>\n",
              "</table>\n",
              "</div>\n",
              "      <button class=\"colab-df-convert\" onclick=\"convertToInteractive('df-dd8764dc-2d6d-4e5a-82e0-5a70b133e977')\"\n",
              "              title=\"Convert this dataframe to an interactive table.\"\n",
              "              style=\"display:none;\">\n",
              "        \n",
              "  <svg xmlns=\"http://www.w3.org/2000/svg\" height=\"24px\"viewBox=\"0 0 24 24\"\n",
              "       width=\"24px\">\n",
              "    <path d=\"M0 0h24v24H0V0z\" fill=\"none\"/>\n",
              "    <path d=\"M18.56 5.44l.94 2.06.94-2.06 2.06-.94-2.06-.94-.94-2.06-.94 2.06-2.06.94zm-11 1L8.5 8.5l.94-2.06 2.06-.94-2.06-.94L8.5 2.5l-.94 2.06-2.06.94zm10 10l.94 2.06.94-2.06 2.06-.94-2.06-.94-.94-2.06-.94 2.06-2.06.94z\"/><path d=\"M17.41 7.96l-1.37-1.37c-.4-.4-.92-.59-1.43-.59-.52 0-1.04.2-1.43.59L10.3 9.45l-7.72 7.72c-.78.78-.78 2.05 0 2.83L4 21.41c.39.39.9.59 1.41.59.51 0 1.02-.2 1.41-.59l7.78-7.78 2.81-2.81c.8-.78.8-2.07 0-2.86zM5.41 20L4 18.59l7.72-7.72 1.47 1.35L5.41 20z\"/>\n",
              "  </svg>\n",
              "      </button>\n",
              "      \n",
              "  <style>\n",
              "    .colab-df-container {\n",
              "      display:flex;\n",
              "      flex-wrap:wrap;\n",
              "      gap: 12px;\n",
              "    }\n",
              "\n",
              "    .colab-df-convert {\n",
              "      background-color: #E8F0FE;\n",
              "      border: none;\n",
              "      border-radius: 50%;\n",
              "      cursor: pointer;\n",
              "      display: none;\n",
              "      fill: #1967D2;\n",
              "      height: 32px;\n",
              "      padding: 0 0 0 0;\n",
              "      width: 32px;\n",
              "    }\n",
              "\n",
              "    .colab-df-convert:hover {\n",
              "      background-color: #E2EBFA;\n",
              "      box-shadow: 0px 1px 2px rgba(60, 64, 67, 0.3), 0px 1px 3px 1px rgba(60, 64, 67, 0.15);\n",
              "      fill: #174EA6;\n",
              "    }\n",
              "\n",
              "    [theme=dark] .colab-df-convert {\n",
              "      background-color: #3B4455;\n",
              "      fill: #D2E3FC;\n",
              "    }\n",
              "\n",
              "    [theme=dark] .colab-df-convert:hover {\n",
              "      background-color: #434B5C;\n",
              "      box-shadow: 0px 1px 3px 1px rgba(0, 0, 0, 0.15);\n",
              "      filter: drop-shadow(0px 1px 2px rgba(0, 0, 0, 0.3));\n",
              "      fill: #FFFFFF;\n",
              "    }\n",
              "  </style>\n",
              "\n",
              "      <script>\n",
              "        const buttonEl =\n",
              "          document.querySelector('#df-dd8764dc-2d6d-4e5a-82e0-5a70b133e977 button.colab-df-convert');\n",
              "        buttonEl.style.display =\n",
              "          google.colab.kernel.accessAllowed ? 'block' : 'none';\n",
              "\n",
              "        async function convertToInteractive(key) {\n",
              "          const element = document.querySelector('#df-dd8764dc-2d6d-4e5a-82e0-5a70b133e977');\n",
              "          const dataTable =\n",
              "            await google.colab.kernel.invokeFunction('convertToInteractive',\n",
              "                                                     [key], {});\n",
              "          if (!dataTable) return;\n",
              "\n",
              "          const docLinkHtml = 'Like what you see? Visit the ' +\n",
              "            '<a target=\"_blank\" href=https://colab.research.google.com/notebooks/data_table.ipynb>data table notebook</a>'\n",
              "            + ' to learn more about interactive tables.';\n",
              "          element.innerHTML = '';\n",
              "          dataTable['output_type'] = 'display_data';\n",
              "          await google.colab.output.renderOutput(dataTable, element);\n",
              "          const docLink = document.createElement('div');\n",
              "          docLink.innerHTML = docLinkHtml;\n",
              "          element.appendChild(docLink);\n",
              "        }\n",
              "      </script>\n",
              "    </div>\n",
              "  </div>\n",
              "  "
            ],
            "text/plain": [
              "           0    1      2       3    4     5   ...   9    10   11   12     13      14\n",
              "0  15646594.0  0.0  15.92   2.875  2.0  11.0  ...  0.0  0.0  0.0  2.0  120.0     1.0\n",
              "1  15577771.0  0.0  29.50   1.085  1.0  14.0  ...  0.0  0.0  0.0  2.0  280.0    14.0\n",
              "2  15593834.0  0.0  16.33   0.210  2.0   6.0  ...  0.0  0.0  0.0  2.0  200.0     2.0\n",
              "3  15673907.0  0.0  71.58   0.000  2.0   8.0  ...  0.0  0.0  0.0  3.0  184.0     1.0\n",
              "4  15599272.0  0.0  33.67   0.375  2.0  13.0  ...  0.0  0.0  0.0  2.0  300.0    45.0\n",
              "5  15611682.0  0.0  20.08   1.250  2.0   8.0  ...  0.0  0.0  0.0  2.0    0.0     1.0\n",
              "6  15598266.0  1.0  31.67  16.165  2.0   2.0  ...  1.0  9.0  0.0  2.0  250.0   731.0\n",
              "7  15593694.0  1.0  55.92  11.500  2.0   1.0  ...  1.0  5.0  0.0  2.0    0.0  8852.0\n",
              "\n",
              "[8 rows x 15 columns]"
            ]
          },
          "metadata": {},
          "execution_count": 14
        }
      ]
    },
    {
      "cell_type": "markdown",
      "source": [
        "# Trasladar el modelo de no supervisado a supervisado"
      ],
      "metadata": {
        "id": "TBqT23iukhcH"
      }
    },
    {
      "cell_type": "code",
      "source": [
        "# Crear la matriz de caracteristicas\n",
        "customers = dataset.iloc[:, 1:-1].values\n"
      ],
      "metadata": {
        "id": "gV_SS2fKj_gQ"
      },
      "execution_count": 15,
      "outputs": []
    },
    {
      "cell_type": "code",
      "source": [
        "is_fraud = np.zeros(len(dataset))"
      ],
      "metadata": {
        "id": "ytU8Zq6vlH6H"
      },
      "execution_count": 16,
      "outputs": []
    },
    {
      "cell_type": "code",
      "source": [
        "for i in range(len(dataset)):\n",
        "  if dataset.iloc[i, 0] in frauds:\n",
        "    is_fraud[i] = 1\n",
        "    "
      ],
      "metadata": {
        "id": "a5wQ3aFeljm8"
      },
      "execution_count": 17,
      "outputs": []
    },
    {
      "cell_type": "code",
      "source": [
        "plt.hist(is_fraud)\n",
        "plt.show()"
      ],
      "metadata": {
        "colab": {
          "base_uri": "https://localhost:8080/",
          "height": 265
        },
        "id": "2kHefHtBmPen",
        "outputId": "7004364e-aa13-402c-ac3c-fd05ac14431e"
      },
      "execution_count": 28,
      "outputs": [
        {
          "output_type": "display_data",
          "data": {
            "image/png": "[encoded data removed]",
            "text/plain": [
              "<Figure size 432x288 with 1 Axes>"
            ]
          },
          "metadata": {
            "needs_background": "light"
          }
        }
      ]
    },
    {
      "cell_type": "code",
      "source": [
        "from sklearn.preprocessing import StandardScaler\n",
        "sc_X = StandardScaler()\n",
        "customers = sc_X.fit_transform(customers)"
      ],
      "metadata": {
        "id": "u3OBqdRAmyGv"
      },
      "execution_count": 29,
      "outputs": []
    },
    {
      "cell_type": "code",
      "source": [
        "import keras\n",
        "from keras.models import Sequential\n",
        "from keras.layers import Dense, Dropout"
      ],
      "metadata": {
        "id": "VfyDSjSQm-zQ"
      },
      "execution_count": 30,
      "outputs": []
    },
    {
      "cell_type": "code",
      "source": [
        "import tensorflow as tf\n",
        "\n",
        "class myCallback(tf.keras.callbacks.Callback):\n",
        "  def on_epoch_end(self, epoch, logs = {}):\n",
        "    if(logs.get('accuracy') >= 0.99):\n",
        "      print('\\nSe alcanzó 95% de accuracy')\n",
        "      self.model.stop_training = True\n",
        "\n",
        "callbacks = myCallback()"
      ],
      "metadata": {
        "id": "q-qBH23AnsZ3"
      },
      "execution_count": 36,
      "outputs": []
    },
    {
      "cell_type": "code",
      "source": [
        "classifier = Sequential()\n",
        "classifier.add(Dense(units = 6, kernel_initializer = 'uniform', activation = 'relu', input_dim = 14))\n",
        "classifier.add( Dense( units = 1, kernel_initializer= 'uniform', activation= 'sigmoid'))\n",
        "\n",
        "classifier.compile(optimizer= 'adam', loss = 'binary_crossentropy', metrics = ['accuracy'])\n",
        "\n",
        "classifier.fit(customers, is_fraud, batch_size= 1, epochs = 100, callbacks = callbacks)"
      ],
      "metadata": {
        "colab": {
          "base_uri": "https://localhost:8080/"
        },
        "id": "NljILoQFnFlR",
        "outputId": "6f546700-db9c-4b99-8f28-b608d58015b9"
      },
      "execution_count": 37,
      "outputs": [
        {
          "output_type": "stream",
          "name": "stdout",
          "text": [
            "Epoch 1/100\n",
            "690/690 [==============================] - 1s 1ms/step - loss: 0.3507 - accuracy: 0.9870\n",
            "Epoch 2/100\n",
            "690/690 [==============================] - 1s 1ms/step - loss: 0.0765 - accuracy: 0.9884\n",
            "Epoch 3/100\n",
            "690/690 [==============================] - 1s 1ms/step - loss: 0.0570 - accuracy: 0.9884\n",
            "Epoch 4/100\n",
            "690/690 [==============================] - 1s 1ms/step - loss: 0.0513 - accuracy: 0.9884\n",
            "Epoch 5/100\n",
            "690/690 [==============================] - 1s 1ms/step - loss: 0.0475 - accuracy: 0.9884\n",
            "Epoch 6/100\n",
            "690/690 [==============================] - 1s 1ms/step - loss: 0.0447 - accuracy: 0.9884\n",
            "Epoch 7/100\n",
            "690/690 [==============================] - 1s 1ms/step - loss: 0.0425 - accuracy: 0.9884\n",
            "Epoch 8/100\n",
            "690/690 [==============================] - 1s 1ms/step - loss: 0.0408 - accuracy: 0.9884\n",
            "Epoch 9/100\n",
            "690/690 [==============================] - 1s 1ms/step - loss: 0.0380 - accuracy: 0.9884\n",
            "Epoch 10/100\n",
            "690/690 [==============================] - 1s 1ms/step - loss: 0.0372 - accuracy: 0.9884\n",
            "Epoch 11/100\n",
            "690/690 [==============================] - 1s 1ms/step - loss: 0.0362 - accuracy: 0.9884\n",
            "Epoch 12/100\n",
            "690/690 [==============================] - 1s 1ms/step - loss: 0.0351 - accuracy: 0.9884\n",
            "Epoch 13/100\n",
            "690/690 [==============================] - 1s 1ms/step - loss: 0.0340 - accuracy: 0.9884\n",
            "Epoch 14/100\n",
            "690/690 [==============================] - 1s 1ms/step - loss: 0.0331 - accuracy: 0.9884\n",
            "Epoch 15/100\n",
            "690/690 [==============================] - 1s 1ms/step - loss: 0.0323 - accuracy: 0.9884\n",
            "Epoch 16/100\n",
            "690/690 [==============================] - 1s 1ms/step - loss: 0.0317 - accuracy: 0.9884\n",
            "Epoch 17/100\n",
            "690/690 [==============================] - 1s 1ms/step - loss: 0.0304 - accuracy: 0.9884\n",
            "Epoch 18/100\n",
            "690/690 [==============================] - 1s 1ms/step - loss: 0.0295 - accuracy: 0.9884\n",
            "Epoch 19/100\n",
            "690/690 [==============================] - 1s 1ms/step - loss: 0.0288 - accuracy: 0.9884\n",
            "Epoch 20/100\n",
            "690/690 [==============================] - 1s 1ms/step - loss: 0.0277 - accuracy: 0.9884\n",
            "Epoch 21/100\n",
            "690/690 [==============================] - 1s 1ms/step - loss: 0.0276 - accuracy: 0.9884\n",
            "Epoch 22/100\n",
            "690/690 [==============================] - 1s 1ms/step - loss: 0.0262 - accuracy: 0.9884\n",
            "Epoch 23/100\n",
            "690/690 [==============================] - 1s 1ms/step - loss: 0.0260 - accuracy: 0.9884\n",
            "Epoch 24/100\n",
            "690/690 [==============================] - 1s 1ms/step - loss: 0.0256 - accuracy: 0.9884\n",
            "Epoch 25/100\n",
            "690/690 [==============================] - 1s 1ms/step - loss: 0.0243 - accuracy: 0.9884\n",
            "Epoch 26/100\n",
            "690/690 [==============================] - 1s 1ms/step - loss: 0.0239 - accuracy: 0.9884\n",
            "Epoch 27/100\n",
            "690/690 [==============================] - 1s 1ms/step - loss: 0.0234 - accuracy: 0.9884\n",
            "Epoch 28/100\n",
            "690/690 [==============================] - 1s 1ms/step - loss: 0.0223 - accuracy: 0.9884\n",
            "Epoch 29/100\n",
            "690/690 [==============================] - 1s 1ms/step - loss: 0.0219 - accuracy: 0.9884\n",
            "Epoch 30/100\n",
            "690/690 [==============================] - 1s 1ms/step - loss: 0.0222 - accuracy: 0.9884\n",
            "Epoch 31/100\n",
            "690/690 [==============================] - 1s 1ms/step - loss: 0.0218 - accuracy: 0.9884\n",
            "Epoch 32/100\n",
            "690/690 [==============================] - 1s 1ms/step - loss: 0.0202 - accuracy: 0.9884\n",
            "Epoch 33/100\n",
            "690/690 [==============================] - 1s 1ms/step - loss: 0.0204 - accuracy: 0.9884\n",
            "Epoch 34/100\n",
            "690/690 [==============================] - 1s 1ms/step - loss: 0.0198 - accuracy: 0.9884\n",
            "Epoch 35/100\n",
            "690/690 [==============================] - 1s 1ms/step - loss: 0.0195 - accuracy: 0.9884\n",
            "Epoch 36/100\n",
            "690/690 [==============================] - 1s 1ms/step - loss: 0.0187 - accuracy: 0.9884\n",
            "Epoch 37/100\n",
            "690/690 [==============================] - 1s 1ms/step - loss: 0.0181 - accuracy: 0.9884\n",
            "Epoch 38/100\n",
            "690/690 [==============================] - 1s 1ms/step - loss: 0.0183 - accuracy: 0.9884\n",
            "Epoch 39/100\n",
            "690/690 [==============================] - 1s 1ms/step - loss: 0.0181 - accuracy: 0.9884\n",
            "Epoch 40/100\n",
            "690/690 [==============================] - 1s 1ms/step - loss: 0.0172 - accuracy: 0.9884\n",
            "Epoch 41/100\n",
            "690/690 [==============================] - 1s 1ms/step - loss: 0.0176 - accuracy: 0.9884\n",
            "Epoch 42/100\n",
            "690/690 [==============================] - 1s 1ms/step - loss: 0.0158 - accuracy: 0.9884\n",
            "Epoch 43/100\n",
            "661/690 [===========================>..] - ETA: 0s - loss: 0.0130 - accuracy: 0.9924\n",
            "Se alcanzó 95% de accuracy\n",
            "690/690 [==============================] - 1s 1ms/step - loss: 0.0155 - accuracy: 0.9913\n"
          ]
        },
        {
          "output_type": "execute_result",
          "data": {
            "text/plain": [
              "<keras.callbacks.History at 0x7f6a9cad2910>"
            ]
          },
          "metadata": {},
          "execution_count": 37
        }
      ]
    },
    {
      "cell_type": "code",
      "source": [
        "y_pred = classifier.predict(customers)\n",
        "y_pred = np.concatenate((dataset.iloc[:,0:1].values, y_pred), axis = 1)"
      ],
      "metadata": {
        "id": "-cP0W09JpqO_"
      },
      "execution_count": 40,
      "outputs": []
    },
    {
      "cell_type": "code",
      "source": [
        "y_pred = y_pred[y_pred[:,1].argsort()]"
      ],
      "metadata": {
        "id": "zitTCb4RqUlD"
      },
      "execution_count": 41,
      "outputs": []
    },
    {
      "cell_type": "code",
      "source": [
        "y_pred"
      ],
      "metadata": {
        "colab": {
          "base_uri": "https://localhost:8080/"
        },
        "id": "2DaDBaJYqkdl",
        "outputId": "35da8ef1-2a48-4941-a7eb-cd33fe9eaa55"
      },
      "execution_count": 42,
      "outputs": [
        {
          "output_type": "execute_result",
          "data": {
            "text/plain": [
              "array([[1.57238270e+07, 2.63545323e-15],\n",
              "       [1.57319890e+07, 1.61167873e-14],\n",
              "       [1.55723900e+07, 4.81906012e-14],\n",
              "       ...,\n",
              "       [1.55777710e+07, 5.07435501e-01],\n",
              "       [1.55992720e+07, 5.07435501e-01],\n",
              "       [1.56465940e+07, 5.07435501e-01]])"
            ]
          },
          "metadata": {},
          "execution_count": 42
        }
      ]
    },
    {
      "cell_type": "markdown",
      "source": [
        "Se obtiene la probabilidad de que cometan fraude"
      ],
      "metadata": {
        "id": "lbMauD5SqskZ"
      }
    }
  ]
}